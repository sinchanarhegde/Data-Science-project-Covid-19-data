{
  "cells": [
    {
      "cell_type": "markdown",
      "metadata": {
        "id": "view-in-github",
        "colab_type": "text"
      },
      "source": [
        "<a href=\"https://colab.research.google.com/github/sinchanarhegde/Data-Science-project-Covid-19-data/blob/main/Copy_of_Project_part1(Covid_19_data).ipynb\" target=\"_parent\"><img src=\"https://colab.research.google.com/assets/colab-badge.svg\" alt=\"Open In Colab\"/></a>"
      ]
    },
    {
      "cell_type": "markdown",
      "id": "ba84140e-f601-48ab-9670-8857919f307c",
      "metadata": {
        "id": "ba84140e-f601-48ab-9670-8857919f307c"
      },
      "source": [
        "#  Solution for Covid-19 Data analysis Project"
      ]
    },
    {
      "cell_type": "code",
      "execution_count": null,
      "id": "fe4871a1-c4d5-4923-a7ac-27b682a037ee",
      "metadata": {
        "id": "fe4871a1-c4d5-4923-a7ac-27b682a037ee"
      },
      "outputs": [],
      "source": [
        "import pandas as pd"
      ]
    },
    {
      "cell_type": "code",
      "execution_count": null,
      "id": "90f06126-cec5-4f3a-adc4-47ad3adf6772",
      "metadata": {
        "id": "90f06126-cec5-4f3a-adc4-47ad3adf6772"
      },
      "outputs": [],
      "source": [
        "import seaborn as sns"
      ]
    },
    {
      "cell_type": "code",
      "execution_count": null,
      "id": "61ddc1e1-7500-469e-be42-68aa6e0b34be",
      "metadata": {
        "id": "61ddc1e1-7500-469e-be42-68aa6e0b34be"
      },
      "outputs": [],
      "source": [
        "import matplotlib.pyplot as plt"
      ]
    },
    {
      "cell_type": "markdown",
      "id": "a77a65bd-73bf-40a4-a0f6-9cb3f38fc77c",
      "metadata": {
        "id": "a77a65bd-73bf-40a4-a0f6-9cb3f38fc77c"
      },
      "source": [
        "## 1. Importing the dataset using Pandas using mentioned url"
      ]
    },
    {
      "cell_type": "code",
      "execution_count": null,
      "id": "a4119512-0b86-464d-bd94-621fd7958553",
      "metadata": {
        "id": "a4119512-0b86-464d-bd94-621fd7958553"
      },
      "outputs": [],
      "source": [
        "df1=pd.read_csv(\"https://raw.githubusercontent.com/SR1608/Datasets/main/covid-data.csv\",sep=\",\")"
      ]
    },
    {
      "cell_type": "code",
      "execution_count": null,
      "id": "221e72b8-5632-479e-9139-c7cdd03729a7",
      "metadata": {
        "id": "221e72b8-5632-479e-9139-c7cdd03729a7",
        "outputId": "c16f7f3f-ffa0-4852-e068-0f41d2bd9339"
      },
      "outputs": [
        {
          "data": {
            "text/html": [
              "<div>\n",
              "<style scoped>\n",
              "    .dataframe tbody tr th:only-of-type {\n",
              "        vertical-align: middle;\n",
              "    }\n",
              "\n",
              "    .dataframe tbody tr th {\n",
              "        vertical-align: top;\n",
              "    }\n",
              "\n",
              "    .dataframe thead th {\n",
              "        text-align: right;\n",
              "    }\n",
              "</style>\n",
              "<table border=\"1\" class=\"dataframe\">\n",
              "  <thead>\n",
              "    <tr style=\"text-align: right;\">\n",
              "      <th></th>\n",
              "      <th>iso_code</th>\n",
              "      <th>continent</th>\n",
              "      <th>location</th>\n",
              "      <th>date</th>\n",
              "      <th>total_cases</th>\n",
              "      <th>new_cases</th>\n",
              "      <th>new_cases_smoothed</th>\n",
              "      <th>total_deaths</th>\n",
              "      <th>new_deaths</th>\n",
              "      <th>new_deaths_smoothed</th>\n",
              "      <th>...</th>\n",
              "      <th>gdp_per_capita</th>\n",
              "      <th>extreme_poverty</th>\n",
              "      <th>cardiovasc_death_rate</th>\n",
              "      <th>diabetes_prevalence</th>\n",
              "      <th>female_smokers</th>\n",
              "      <th>male_smokers</th>\n",
              "      <th>handwashing_facilities</th>\n",
              "      <th>hospital_beds_per_thousand</th>\n",
              "      <th>life_expectancy</th>\n",
              "      <th>human_development_index</th>\n",
              "    </tr>\n",
              "  </thead>\n",
              "  <tbody>\n",
              "    <tr>\n",
              "      <th>0</th>\n",
              "      <td>AFG</td>\n",
              "      <td>Asia</td>\n",
              "      <td>Afghanistan</td>\n",
              "      <td>31/12/19</td>\n",
              "      <td>NaN</td>\n",
              "      <td>0.0</td>\n",
              "      <td>NaN</td>\n",
              "      <td>NaN</td>\n",
              "      <td>0.0</td>\n",
              "      <td>NaN</td>\n",
              "      <td>...</td>\n",
              "      <td>1803.987</td>\n",
              "      <td>NaN</td>\n",
              "      <td>597.029</td>\n",
              "      <td>9.59</td>\n",
              "      <td>NaN</td>\n",
              "      <td>NaN</td>\n",
              "      <td>37.746</td>\n",
              "      <td>0.5</td>\n",
              "      <td>64.83</td>\n",
              "      <td>0.498</td>\n",
              "    </tr>\n",
              "    <tr>\n",
              "      <th>1</th>\n",
              "      <td>AFG</td>\n",
              "      <td>Asia</td>\n",
              "      <td>Afghanistan</td>\n",
              "      <td>01/01/20</td>\n",
              "      <td>NaN</td>\n",
              "      <td>0.0</td>\n",
              "      <td>NaN</td>\n",
              "      <td>NaN</td>\n",
              "      <td>0.0</td>\n",
              "      <td>NaN</td>\n",
              "      <td>...</td>\n",
              "      <td>1803.987</td>\n",
              "      <td>NaN</td>\n",
              "      <td>597.029</td>\n",
              "      <td>9.59</td>\n",
              "      <td>NaN</td>\n",
              "      <td>NaN</td>\n",
              "      <td>37.746</td>\n",
              "      <td>0.5</td>\n",
              "      <td>64.83</td>\n",
              "      <td>0.498</td>\n",
              "    </tr>\n",
              "    <tr>\n",
              "      <th>2</th>\n",
              "      <td>AFG</td>\n",
              "      <td>Asia</td>\n",
              "      <td>Afghanistan</td>\n",
              "      <td>02/01/20</td>\n",
              "      <td>NaN</td>\n",
              "      <td>0.0</td>\n",
              "      <td>NaN</td>\n",
              "      <td>NaN</td>\n",
              "      <td>0.0</td>\n",
              "      <td>NaN</td>\n",
              "      <td>...</td>\n",
              "      <td>1803.987</td>\n",
              "      <td>NaN</td>\n",
              "      <td>597.029</td>\n",
              "      <td>9.59</td>\n",
              "      <td>NaN</td>\n",
              "      <td>NaN</td>\n",
              "      <td>37.746</td>\n",
              "      <td>0.5</td>\n",
              "      <td>64.83</td>\n",
              "      <td>0.498</td>\n",
              "    </tr>\n",
              "    <tr>\n",
              "      <th>3</th>\n",
              "      <td>AFG</td>\n",
              "      <td>Asia</td>\n",
              "      <td>Afghanistan</td>\n",
              "      <td>03/01/20</td>\n",
              "      <td>NaN</td>\n",
              "      <td>0.0</td>\n",
              "      <td>NaN</td>\n",
              "      <td>NaN</td>\n",
              "      <td>0.0</td>\n",
              "      <td>NaN</td>\n",
              "      <td>...</td>\n",
              "      <td>1803.987</td>\n",
              "      <td>NaN</td>\n",
              "      <td>597.029</td>\n",
              "      <td>9.59</td>\n",
              "      <td>NaN</td>\n",
              "      <td>NaN</td>\n",
              "      <td>37.746</td>\n",
              "      <td>0.5</td>\n",
              "      <td>64.83</td>\n",
              "      <td>0.498</td>\n",
              "    </tr>\n",
              "    <tr>\n",
              "      <th>4</th>\n",
              "      <td>AFG</td>\n",
              "      <td>Asia</td>\n",
              "      <td>Afghanistan</td>\n",
              "      <td>04/01/20</td>\n",
              "      <td>NaN</td>\n",
              "      <td>0.0</td>\n",
              "      <td>NaN</td>\n",
              "      <td>NaN</td>\n",
              "      <td>0.0</td>\n",
              "      <td>NaN</td>\n",
              "      <td>...</td>\n",
              "      <td>1803.987</td>\n",
              "      <td>NaN</td>\n",
              "      <td>597.029</td>\n",
              "      <td>9.59</td>\n",
              "      <td>NaN</td>\n",
              "      <td>NaN</td>\n",
              "      <td>37.746</td>\n",
              "      <td>0.5</td>\n",
              "      <td>64.83</td>\n",
              "      <td>0.498</td>\n",
              "    </tr>\n",
              "    <tr>\n",
              "      <th>...</th>\n",
              "      <td>...</td>\n",
              "      <td>...</td>\n",
              "      <td>...</td>\n",
              "      <td>...</td>\n",
              "      <td>...</td>\n",
              "      <td>...</td>\n",
              "      <td>...</td>\n",
              "      <td>...</td>\n",
              "      <td>...</td>\n",
              "      <td>...</td>\n",
              "      <td>...</td>\n",
              "      <td>...</td>\n",
              "      <td>...</td>\n",
              "      <td>...</td>\n",
              "      <td>...</td>\n",
              "      <td>...</td>\n",
              "      <td>...</td>\n",
              "      <td>...</td>\n",
              "      <td>...</td>\n",
              "      <td>...</td>\n",
              "      <td>...</td>\n",
              "    </tr>\n",
              "    <tr>\n",
              "      <th>57389</th>\n",
              "      <td>NaN</td>\n",
              "      <td>NaN</td>\n",
              "      <td>International</td>\n",
              "      <td>13/11/20</td>\n",
              "      <td>696.0</td>\n",
              "      <td>NaN</td>\n",
              "      <td>NaN</td>\n",
              "      <td>7.0</td>\n",
              "      <td>NaN</td>\n",
              "      <td>NaN</td>\n",
              "      <td>...</td>\n",
              "      <td>NaN</td>\n",
              "      <td>NaN</td>\n",
              "      <td>NaN</td>\n",
              "      <td>NaN</td>\n",
              "      <td>NaN</td>\n",
              "      <td>NaN</td>\n",
              "      <td>NaN</td>\n",
              "      <td>NaN</td>\n",
              "      <td>NaN</td>\n",
              "      <td>NaN</td>\n",
              "    </tr>\n",
              "    <tr>\n",
              "      <th>57390</th>\n",
              "      <td>NaN</td>\n",
              "      <td>NaN</td>\n",
              "      <td>International</td>\n",
              "      <td>14/11/20</td>\n",
              "      <td>696.0</td>\n",
              "      <td>NaN</td>\n",
              "      <td>NaN</td>\n",
              "      <td>7.0</td>\n",
              "      <td>NaN</td>\n",
              "      <td>NaN</td>\n",
              "      <td>...</td>\n",
              "      <td>NaN</td>\n",
              "      <td>NaN</td>\n",
              "      <td>NaN</td>\n",
              "      <td>NaN</td>\n",
              "      <td>NaN</td>\n",
              "      <td>NaN</td>\n",
              "      <td>NaN</td>\n",
              "      <td>NaN</td>\n",
              "      <td>NaN</td>\n",
              "      <td>NaN</td>\n",
              "    </tr>\n",
              "    <tr>\n",
              "      <th>57391</th>\n",
              "      <td>NaN</td>\n",
              "      <td>NaN</td>\n",
              "      <td>International</td>\n",
              "      <td>15/11/20</td>\n",
              "      <td>696.0</td>\n",
              "      <td>NaN</td>\n",
              "      <td>NaN</td>\n",
              "      <td>7.0</td>\n",
              "      <td>NaN</td>\n",
              "      <td>NaN</td>\n",
              "      <td>...</td>\n",
              "      <td>NaN</td>\n",
              "      <td>NaN</td>\n",
              "      <td>NaN</td>\n",
              "      <td>NaN</td>\n",
              "      <td>NaN</td>\n",
              "      <td>NaN</td>\n",
              "      <td>NaN</td>\n",
              "      <td>NaN</td>\n",
              "      <td>NaN</td>\n",
              "      <td>NaN</td>\n",
              "    </tr>\n",
              "    <tr>\n",
              "      <th>57392</th>\n",
              "      <td>NaN</td>\n",
              "      <td>NaN</td>\n",
              "      <td>International</td>\n",
              "      <td>16/11/20</td>\n",
              "      <td>696.0</td>\n",
              "      <td>NaN</td>\n",
              "      <td>NaN</td>\n",
              "      <td>7.0</td>\n",
              "      <td>NaN</td>\n",
              "      <td>NaN</td>\n",
              "      <td>...</td>\n",
              "      <td>NaN</td>\n",
              "      <td>NaN</td>\n",
              "      <td>NaN</td>\n",
              "      <td>NaN</td>\n",
              "      <td>NaN</td>\n",
              "      <td>NaN</td>\n",
              "      <td>NaN</td>\n",
              "      <td>NaN</td>\n",
              "      <td>NaN</td>\n",
              "      <td>NaN</td>\n",
              "    </tr>\n",
              "    <tr>\n",
              "      <th>57393</th>\n",
              "      <td>NaN</td>\n",
              "      <td>NaN</td>\n",
              "      <td>International</td>\n",
              "      <td>17/11/20</td>\n",
              "      <td>696.0</td>\n",
              "      <td>NaN</td>\n",
              "      <td>NaN</td>\n",
              "      <td>7.0</td>\n",
              "      <td>NaN</td>\n",
              "      <td>NaN</td>\n",
              "      <td>...</td>\n",
              "      <td>NaN</td>\n",
              "      <td>NaN</td>\n",
              "      <td>NaN</td>\n",
              "      <td>NaN</td>\n",
              "      <td>NaN</td>\n",
              "      <td>NaN</td>\n",
              "      <td>NaN</td>\n",
              "      <td>NaN</td>\n",
              "      <td>NaN</td>\n",
              "      <td>NaN</td>\n",
              "    </tr>\n",
              "  </tbody>\n",
              "</table>\n",
              "<p>57394 rows × 49 columns</p>\n",
              "</div>"
            ],
            "text/plain": [
              "      iso_code continent       location      date  total_cases  new_cases  \\\n",
              "0          AFG      Asia    Afghanistan  31/12/19          NaN        0.0   \n",
              "1          AFG      Asia    Afghanistan  01/01/20          NaN        0.0   \n",
              "2          AFG      Asia    Afghanistan  02/01/20          NaN        0.0   \n",
              "3          AFG      Asia    Afghanistan  03/01/20          NaN        0.0   \n",
              "4          AFG      Asia    Afghanistan  04/01/20          NaN        0.0   \n",
              "...        ...       ...            ...       ...          ...        ...   \n",
              "57389      NaN       NaN  International  13/11/20        696.0        NaN   \n",
              "57390      NaN       NaN  International  14/11/20        696.0        NaN   \n",
              "57391      NaN       NaN  International  15/11/20        696.0        NaN   \n",
              "57392      NaN       NaN  International  16/11/20        696.0        NaN   \n",
              "57393      NaN       NaN  International  17/11/20        696.0        NaN   \n",
              "\n",
              "       new_cases_smoothed  total_deaths  new_deaths  new_deaths_smoothed  ...  \\\n",
              "0                     NaN           NaN         0.0                  NaN  ...   \n",
              "1                     NaN           NaN         0.0                  NaN  ...   \n",
              "2                     NaN           NaN         0.0                  NaN  ...   \n",
              "3                     NaN           NaN         0.0                  NaN  ...   \n",
              "4                     NaN           NaN         0.0                  NaN  ...   \n",
              "...                   ...           ...         ...                  ...  ...   \n",
              "57389                 NaN           7.0         NaN                  NaN  ...   \n",
              "57390                 NaN           7.0         NaN                  NaN  ...   \n",
              "57391                 NaN           7.0         NaN                  NaN  ...   \n",
              "57392                 NaN           7.0         NaN                  NaN  ...   \n",
              "57393                 NaN           7.0         NaN                  NaN  ...   \n",
              "\n",
              "       gdp_per_capita  extreme_poverty  cardiovasc_death_rate  \\\n",
              "0            1803.987              NaN                597.029   \n",
              "1            1803.987              NaN                597.029   \n",
              "2            1803.987              NaN                597.029   \n",
              "3            1803.987              NaN                597.029   \n",
              "4            1803.987              NaN                597.029   \n",
              "...               ...              ...                    ...   \n",
              "57389             NaN              NaN                    NaN   \n",
              "57390             NaN              NaN                    NaN   \n",
              "57391             NaN              NaN                    NaN   \n",
              "57392             NaN              NaN                    NaN   \n",
              "57393             NaN              NaN                    NaN   \n",
              "\n",
              "       diabetes_prevalence  female_smokers  male_smokers  \\\n",
              "0                     9.59             NaN           NaN   \n",
              "1                     9.59             NaN           NaN   \n",
              "2                     9.59             NaN           NaN   \n",
              "3                     9.59             NaN           NaN   \n",
              "4                     9.59             NaN           NaN   \n",
              "...                    ...             ...           ...   \n",
              "57389                  NaN             NaN           NaN   \n",
              "57390                  NaN             NaN           NaN   \n",
              "57391                  NaN             NaN           NaN   \n",
              "57392                  NaN             NaN           NaN   \n",
              "57393                  NaN             NaN           NaN   \n",
              "\n",
              "       handwashing_facilities  hospital_beds_per_thousand  life_expectancy  \\\n",
              "0                      37.746                         0.5            64.83   \n",
              "1                      37.746                         0.5            64.83   \n",
              "2                      37.746                         0.5            64.83   \n",
              "3                      37.746                         0.5            64.83   \n",
              "4                      37.746                         0.5            64.83   \n",
              "...                       ...                         ...              ...   \n",
              "57389                     NaN                         NaN              NaN   \n",
              "57390                     NaN                         NaN              NaN   \n",
              "57391                     NaN                         NaN              NaN   \n",
              "57392                     NaN                         NaN              NaN   \n",
              "57393                     NaN                         NaN              NaN   \n",
              "\n",
              "       human_development_index  \n",
              "0                        0.498  \n",
              "1                        0.498  \n",
              "2                        0.498  \n",
              "3                        0.498  \n",
              "4                        0.498  \n",
              "...                        ...  \n",
              "57389                      NaN  \n",
              "57390                      NaN  \n",
              "57391                      NaN  \n",
              "57392                      NaN  \n",
              "57393                      NaN  \n",
              "\n",
              "[57394 rows x 49 columns]"
            ]
          },
          "execution_count": 6,
          "metadata": {},
          "output_type": "execute_result"
        }
      ],
      "source": [
        "df1"
      ]
    },
    {
      "cell_type": "markdown",
      "id": "2a897bb3-b650-45c0-bb3d-e01f1ba2ab2e",
      "metadata": {
        "id": "2a897bb3-b650-45c0-bb3d-e01f1ba2ab2e"
      },
      "source": [
        "## 2. High Level Understandings:"
      ]
    },
    {
      "cell_type": "markdown",
      "id": "2eab9dfa-a07d-45b4-9006-89e8556e65e8",
      "metadata": {
        "id": "2eab9dfa-a07d-45b4-9006-89e8556e65e8"
      },
      "source": [
        "### a. Number of rows and columns in the dataset:"
      ]
    },
    {
      "cell_type": "code",
      "execution_count": null,
      "id": "23cab314-5b66-4289-b48e-42aeec43b463",
      "metadata": {
        "id": "23cab314-5b66-4289-b48e-42aeec43b463"
      },
      "outputs": [],
      "source": [
        "n_rows,n_columns = df1.shape"
      ]
    },
    {
      "cell_type": "code",
      "execution_count": null,
      "id": "139616ad-0364-4fe3-bb58-b15b2b3a4b8d",
      "metadata": {
        "id": "139616ad-0364-4fe3-bb58-b15b2b3a4b8d",
        "outputId": "d5c9fa39-aee2-4342-d2b1-a4a07f0d2e8f"
      },
      "outputs": [
        {
          "data": {
            "text/plain": [
              "57394"
            ]
          },
          "execution_count": 8,
          "metadata": {},
          "output_type": "execute_result"
        }
      ],
      "source": [
        "n_rows"
      ]
    },
    {
      "cell_type": "code",
      "execution_count": null,
      "id": "25c333a9-01d6-48c4-9b06-45a0011c6690",
      "metadata": {
        "id": "25c333a9-01d6-48c4-9b06-45a0011c6690",
        "outputId": "770a305e-803f-44c2-fa5f-788a4ebbdd66"
      },
      "outputs": [
        {
          "data": {
            "text/plain": [
              "49"
            ]
          },
          "execution_count": 9,
          "metadata": {},
          "output_type": "execute_result"
        }
      ],
      "source": [
        "n_columns"
      ]
    },
    {
      "cell_type": "markdown",
      "id": "ddd388df-f655-4507-8026-6b2dd0d8b884",
      "metadata": {
        "id": "ddd388df-f655-4507-8026-6b2dd0d8b884"
      },
      "source": [
        "### b. Data Types of columns:"
      ]
    },
    {
      "cell_type": "code",
      "execution_count": null,
      "id": "df1b3668-fd5a-43b6-bf21-26b3b7b42db7",
      "metadata": {
        "scrolled": true,
        "id": "df1b3668-fd5a-43b6-bf21-26b3b7b42db7",
        "outputId": "6a824674-0cbc-4f5c-fd85-1bfff96b35d5"
      },
      "outputs": [
        {
          "data": {
            "text/plain": [
              "iso_code                               object\n",
              "continent                              object\n",
              "location                               object\n",
              "date                                   object\n",
              "total_cases                           float64\n",
              "new_cases                             float64\n",
              "new_cases_smoothed                    float64\n",
              "total_deaths                          float64\n",
              "new_deaths                            float64\n",
              "new_deaths_smoothed                   float64\n",
              "total_cases_per_million               float64\n",
              "new_cases_per_million                 float64\n",
              "new_cases_smoothed_per_million        float64\n",
              "total_deaths_per_million              float64\n",
              "new_deaths_per_million                float64\n",
              "new_deaths_smoothed_per_million       float64\n",
              "reproduction_rate                     float64\n",
              "icu_patients                          float64\n",
              "icu_patients_per_million              float64\n",
              "hosp_patients                         float64\n",
              "hosp_patients_per_million             float64\n",
              "weekly_icu_admissions                 float64\n",
              "weekly_icu_admissions_per_million     float64\n",
              "weekly_hosp_admissions                float64\n",
              "weekly_hosp_admissions_per_million    float64\n",
              "total_tests                           float64\n",
              "new_tests                             float64\n",
              "total_tests_per_thousand              float64\n",
              "new_tests_per_thousand                float64\n",
              "new_tests_smoothed                    float64\n",
              "new_tests_smoothed_per_thousand       float64\n",
              "tests_per_case                        float64\n",
              "positive_rate                         float64\n",
              "stringency_index                      float64\n",
              "population                            float64\n",
              "population_density                    float64\n",
              "median_age                            float64\n",
              "aged_65_older                         float64\n",
              "aged_70_older                         float64\n",
              "gdp_per_capita                        float64\n",
              "extreme_poverty                       float64\n",
              "cardiovasc_death_rate                 float64\n",
              "diabetes_prevalence                   float64\n",
              "female_smokers                        float64\n",
              "male_smokers                          float64\n",
              "handwashing_facilities                float64\n",
              "hospital_beds_per_thousand            float64\n",
              "life_expectancy                       float64\n",
              "human_development_index               float64\n",
              "dtype: object"
            ]
          },
          "execution_count": 10,
          "metadata": {},
          "output_type": "execute_result"
        }
      ],
      "source": [
        "df1.dtypes"
      ]
    },
    {
      "cell_type": "markdown",
      "id": "7b0a5cd9-d46e-41d7-bff2-32f2343c0dca",
      "metadata": {
        "id": "7b0a5cd9-d46e-41d7-bff2-32f2343c0dca"
      },
      "source": [
        "### c. Info and describe of data in dataframe:"
      ]
    },
    {
      "cell_type": "code",
      "execution_count": null,
      "id": "3a0f5399-6e7d-46f3-bd2d-9901f750dd81",
      "metadata": {
        "id": "3a0f5399-6e7d-46f3-bd2d-9901f750dd81",
        "outputId": "1055a7e5-4952-48e6-ed81-94d2aeca50f1"
      },
      "outputs": [
        {
          "data": {
            "text/html": [
              "<div>\n",
              "<style scoped>\n",
              "    .dataframe tbody tr th:only-of-type {\n",
              "        vertical-align: middle;\n",
              "    }\n",
              "\n",
              "    .dataframe tbody tr th {\n",
              "        vertical-align: top;\n",
              "    }\n",
              "\n",
              "    .dataframe thead th {\n",
              "        text-align: right;\n",
              "    }\n",
              "</style>\n",
              "<table border=\"1\" class=\"dataframe\">\n",
              "  <thead>\n",
              "    <tr style=\"text-align: right;\">\n",
              "      <th></th>\n",
              "      <th>total_cases</th>\n",
              "      <th>new_cases</th>\n",
              "      <th>new_cases_smoothed</th>\n",
              "      <th>total_deaths</th>\n",
              "      <th>new_deaths</th>\n",
              "      <th>new_deaths_smoothed</th>\n",
              "      <th>total_cases_per_million</th>\n",
              "      <th>new_cases_per_million</th>\n",
              "      <th>new_cases_smoothed_per_million</th>\n",
              "      <th>total_deaths_per_million</th>\n",
              "      <th>...</th>\n",
              "      <th>gdp_per_capita</th>\n",
              "      <th>extreme_poverty</th>\n",
              "      <th>cardiovasc_death_rate</th>\n",
              "      <th>diabetes_prevalence</th>\n",
              "      <th>female_smokers</th>\n",
              "      <th>male_smokers</th>\n",
              "      <th>handwashing_facilities</th>\n",
              "      <th>hospital_beds_per_thousand</th>\n",
              "      <th>life_expectancy</th>\n",
              "      <th>human_development_index</th>\n",
              "    </tr>\n",
              "  </thead>\n",
              "  <tbody>\n",
              "    <tr>\n",
              "      <th>count</th>\n",
              "      <td>5.375800e+04</td>\n",
              "      <td>56465.000000</td>\n",
              "      <td>55652.000000</td>\n",
              "      <td>4.436800e+04</td>\n",
              "      <td>56465.000000</td>\n",
              "      <td>55652.000000</td>\n",
              "      <td>53471.000000</td>\n",
              "      <td>56401.000000</td>\n",
              "      <td>55587.000000</td>\n",
              "      <td>44096.000000</td>\n",
              "      <td>...</td>\n",
              "      <td>50367.000000</td>\n",
              "      <td>33571.000000</td>\n",
              "      <td>51013.000000</td>\n",
              "      <td>52881.000000</td>\n",
              "      <td>39669.000000</td>\n",
              "      <td>39156.000000</td>\n",
              "      <td>24176.000000</td>\n",
              "      <td>45936.000000</td>\n",
              "      <td>56336.000000</td>\n",
              "      <td>49247.000000</td>\n",
              "    </tr>\n",
              "    <tr>\n",
              "      <th>mean</th>\n",
              "      <td>1.677974e+05</td>\n",
              "      <td>1953.576941</td>\n",
              "      <td>1920.431953</td>\n",
              "      <td>6.858639e+03</td>\n",
              "      <td>47.054317</td>\n",
              "      <td>46.835439</td>\n",
              "      <td>3139.099982</td>\n",
              "      <td>39.344804</td>\n",
              "      <td>38.403211</td>\n",
              "      <td>95.335293</td>\n",
              "      <td>...</td>\n",
              "      <td>20620.172071</td>\n",
              "      <td>12.435453</td>\n",
              "      <td>252.646642</td>\n",
              "      <td>8.070269</td>\n",
              "      <td>10.741569</td>\n",
              "      <td>32.642686</td>\n",
              "      <td>52.089636</td>\n",
              "      <td>3.089724</td>\n",
              "      <td>73.937780</td>\n",
              "      <td>0.722223</td>\n",
              "    </tr>\n",
              "    <tr>\n",
              "      <th>std</th>\n",
              "      <td>1.693038e+06</td>\n",
              "      <td>18269.650340</td>\n",
              "      <td>17777.391785</td>\n",
              "      <td>5.578081e+04</td>\n",
              "      <td>390.853776</td>\n",
              "      <td>378.272794</td>\n",
              "      <td>6183.455260</td>\n",
              "      <td>133.985155</td>\n",
              "      <td>101.649441</td>\n",
              "      <td>180.721699</td>\n",
              "      <td>...</td>\n",
              "      <td>20310.999832</td>\n",
              "      <td>19.427924</td>\n",
              "      <td>117.522344</td>\n",
              "      <td>4.189605</td>\n",
              "      <td>10.470743</td>\n",
              "      <td>13.453566</td>\n",
              "      <td>31.645306</td>\n",
              "      <td>2.513193</td>\n",
              "      <td>7.397016</td>\n",
              "      <td>0.153261</td>\n",
              "    </tr>\n",
              "    <tr>\n",
              "      <th>min</th>\n",
              "      <td>1.000000e+00</td>\n",
              "      <td>-8261.000000</td>\n",
              "      <td>-552.000000</td>\n",
              "      <td>1.000000e+00</td>\n",
              "      <td>-1918.000000</td>\n",
              "      <td>-232.143000</td>\n",
              "      <td>0.001000</td>\n",
              "      <td>-2212.545000</td>\n",
              "      <td>-269.978000</td>\n",
              "      <td>0.000000</td>\n",
              "      <td>...</td>\n",
              "      <td>661.240000</td>\n",
              "      <td>0.100000</td>\n",
              "      <td>79.370000</td>\n",
              "      <td>0.990000</td>\n",
              "      <td>0.100000</td>\n",
              "      <td>7.700000</td>\n",
              "      <td>1.188000</td>\n",
              "      <td>0.100000</td>\n",
              "      <td>53.280000</td>\n",
              "      <td>0.354000</td>\n",
              "    </tr>\n",
              "    <tr>\n",
              "      <th>25%</th>\n",
              "      <td>1.800000e+02</td>\n",
              "      <td>0.000000</td>\n",
              "      <td>0.857000</td>\n",
              "      <td>1.300000e+01</td>\n",
              "      <td>0.000000</td>\n",
              "      <td>0.000000</td>\n",
              "      <td>90.033000</td>\n",
              "      <td>0.000000</td>\n",
              "      <td>0.260000</td>\n",
              "      <td>3.977750</td>\n",
              "      <td>...</td>\n",
              "      <td>5321.444000</td>\n",
              "      <td>0.500000</td>\n",
              "      <td>156.139000</td>\n",
              "      <td>5.310000</td>\n",
              "      <td>1.900000</td>\n",
              "      <td>21.400000</td>\n",
              "      <td>21.222000</td>\n",
              "      <td>1.300000</td>\n",
              "      <td>69.870000</td>\n",
              "      <td>0.601000</td>\n",
              "    </tr>\n",
              "    <tr>\n",
              "      <th>50%</th>\n",
              "      <td>2.070000e+03</td>\n",
              "      <td>14.000000</td>\n",
              "      <td>19.429000</td>\n",
              "      <td>8.400000e+01</td>\n",
              "      <td>0.000000</td>\n",
              "      <td>0.286000</td>\n",
              "      <td>593.663000</td>\n",
              "      <td>2.194000</td>\n",
              "      <td>3.863000</td>\n",
              "      <td>20.383000</td>\n",
              "      <td>...</td>\n",
              "      <td>13913.839000</td>\n",
              "      <td>2.000000</td>\n",
              "      <td>238.339000</td>\n",
              "      <td>7.110000</td>\n",
              "      <td>6.400000</td>\n",
              "      <td>31.400000</td>\n",
              "      <td>52.232000</td>\n",
              "      <td>2.500000</td>\n",
              "      <td>75.345000</td>\n",
              "      <td>0.752000</td>\n",
              "    </tr>\n",
              "    <tr>\n",
              "      <th>75%</th>\n",
              "      <td>2.235675e+04</td>\n",
              "      <td>235.000000</td>\n",
              "      <td>245.286000</td>\n",
              "      <td>7.270000e+02</td>\n",
              "      <td>4.000000</td>\n",
              "      <td>4.000000</td>\n",
              "      <td>3487.050000</td>\n",
              "      <td>25.941000</td>\n",
              "      <td>29.678500</td>\n",
              "      <td>90.571250</td>\n",
              "      <td>...</td>\n",
              "      <td>31400.840000</td>\n",
              "      <td>18.100000</td>\n",
              "      <td>318.991000</td>\n",
              "      <td>10.390000</td>\n",
              "      <td>19.600000</td>\n",
              "      <td>40.900000</td>\n",
              "      <td>83.741000</td>\n",
              "      <td>4.200000</td>\n",
              "      <td>79.380000</td>\n",
              "      <td>0.847000</td>\n",
              "    </tr>\n",
              "    <tr>\n",
              "      <th>max</th>\n",
              "      <td>5.515465e+07</td>\n",
              "      <td>646281.000000</td>\n",
              "      <td>584981.857000</td>\n",
              "      <td>1.328537e+06</td>\n",
              "      <td>10600.000000</td>\n",
              "      <td>9027.714000</td>\n",
              "      <td>76541.772000</td>\n",
              "      <td>8652.658000</td>\n",
              "      <td>2472.188000</td>\n",
              "      <td>1248.014000</td>\n",
              "      <td>...</td>\n",
              "      <td>116935.600000</td>\n",
              "      <td>77.600000</td>\n",
              "      <td>724.417000</td>\n",
              "      <td>30.530000</td>\n",
              "      <td>44.000000</td>\n",
              "      <td>78.100000</td>\n",
              "      <td>98.999000</td>\n",
              "      <td>13.800000</td>\n",
              "      <td>86.750000</td>\n",
              "      <td>0.953000</td>\n",
              "    </tr>\n",
              "  </tbody>\n",
              "</table>\n",
              "<p>8 rows × 45 columns</p>\n",
              "</div>"
            ],
            "text/plain": [
              "        total_cases      new_cases  new_cases_smoothed  total_deaths  \\\n",
              "count  5.375800e+04   56465.000000        55652.000000  4.436800e+04   \n",
              "mean   1.677974e+05    1953.576941         1920.431953  6.858639e+03   \n",
              "std    1.693038e+06   18269.650340        17777.391785  5.578081e+04   \n",
              "min    1.000000e+00   -8261.000000         -552.000000  1.000000e+00   \n",
              "25%    1.800000e+02       0.000000            0.857000  1.300000e+01   \n",
              "50%    2.070000e+03      14.000000           19.429000  8.400000e+01   \n",
              "75%    2.235675e+04     235.000000          245.286000  7.270000e+02   \n",
              "max    5.515465e+07  646281.000000       584981.857000  1.328537e+06   \n",
              "\n",
              "         new_deaths  new_deaths_smoothed  total_cases_per_million  \\\n",
              "count  56465.000000         55652.000000             53471.000000   \n",
              "mean      47.054317            46.835439              3139.099982   \n",
              "std      390.853776           378.272794              6183.455260   \n",
              "min    -1918.000000          -232.143000                 0.001000   \n",
              "25%        0.000000             0.000000                90.033000   \n",
              "50%        0.000000             0.286000               593.663000   \n",
              "75%        4.000000             4.000000              3487.050000   \n",
              "max    10600.000000          9027.714000             76541.772000   \n",
              "\n",
              "       new_cases_per_million  new_cases_smoothed_per_million  \\\n",
              "count           56401.000000                    55587.000000   \n",
              "mean               39.344804                       38.403211   \n",
              "std               133.985155                      101.649441   \n",
              "min             -2212.545000                     -269.978000   \n",
              "25%                 0.000000                        0.260000   \n",
              "50%                 2.194000                        3.863000   \n",
              "75%                25.941000                       29.678500   \n",
              "max              8652.658000                     2472.188000   \n",
              "\n",
              "       total_deaths_per_million  ...  gdp_per_capita  extreme_poverty  \\\n",
              "count              44096.000000  ...    50367.000000     33571.000000   \n",
              "mean                  95.335293  ...    20620.172071        12.435453   \n",
              "std                  180.721699  ...    20310.999832        19.427924   \n",
              "min                    0.000000  ...      661.240000         0.100000   \n",
              "25%                    3.977750  ...     5321.444000         0.500000   \n",
              "50%                   20.383000  ...    13913.839000         2.000000   \n",
              "75%                   90.571250  ...    31400.840000        18.100000   \n",
              "max                 1248.014000  ...   116935.600000        77.600000   \n",
              "\n",
              "       cardiovasc_death_rate  diabetes_prevalence  female_smokers  \\\n",
              "count           51013.000000         52881.000000    39669.000000   \n",
              "mean              252.646642             8.070269       10.741569   \n",
              "std               117.522344             4.189605       10.470743   \n",
              "min                79.370000             0.990000        0.100000   \n",
              "25%               156.139000             5.310000        1.900000   \n",
              "50%               238.339000             7.110000        6.400000   \n",
              "75%               318.991000            10.390000       19.600000   \n",
              "max               724.417000            30.530000       44.000000   \n",
              "\n",
              "       male_smokers  handwashing_facilities  hospital_beds_per_thousand  \\\n",
              "count  39156.000000            24176.000000                45936.000000   \n",
              "mean      32.642686               52.089636                    3.089724   \n",
              "std       13.453566               31.645306                    2.513193   \n",
              "min        7.700000                1.188000                    0.100000   \n",
              "25%       21.400000               21.222000                    1.300000   \n",
              "50%       31.400000               52.232000                    2.500000   \n",
              "75%       40.900000               83.741000                    4.200000   \n",
              "max       78.100000               98.999000                   13.800000   \n",
              "\n",
              "       life_expectancy  human_development_index  \n",
              "count     56336.000000             49247.000000  \n",
              "mean         73.937780                 0.722223  \n",
              "std           7.397016                 0.153261  \n",
              "min          53.280000                 0.354000  \n",
              "25%          69.870000                 0.601000  \n",
              "50%          75.345000                 0.752000  \n",
              "75%          79.380000                 0.847000  \n",
              "max          86.750000                 0.953000  \n",
              "\n",
              "[8 rows x 45 columns]"
            ]
          },
          "execution_count": 11,
          "metadata": {},
          "output_type": "execute_result"
        }
      ],
      "source": [
        "# Describe of data\n",
        "df1.describe()"
      ]
    },
    {
      "cell_type": "code",
      "execution_count": null,
      "id": "83043130-061f-4691-b332-7ce743d8e1de",
      "metadata": {
        "id": "83043130-061f-4691-b332-7ce743d8e1de",
        "outputId": "ac62d7b4-53c0-4f1f-fa26-dbb48f7fb147"
      },
      "outputs": [
        {
          "data": {
            "text/html": [
              "<div>\n",
              "<style scoped>\n",
              "    .dataframe tbody tr th:only-of-type {\n",
              "        vertical-align: middle;\n",
              "    }\n",
              "\n",
              "    .dataframe tbody tr th {\n",
              "        vertical-align: top;\n",
              "    }\n",
              "\n",
              "    .dataframe thead th {\n",
              "        text-align: right;\n",
              "    }\n",
              "</style>\n",
              "<table border=\"1\" class=\"dataframe\">\n",
              "  <thead>\n",
              "    <tr style=\"text-align: right;\">\n",
              "      <th></th>\n",
              "      <th>iso_code</th>\n",
              "      <th>continent</th>\n",
              "      <th>location</th>\n",
              "      <th>date</th>\n",
              "      <th>total_cases</th>\n",
              "      <th>new_cases</th>\n",
              "      <th>new_cases_smoothed</th>\n",
              "      <th>total_deaths</th>\n",
              "      <th>new_deaths</th>\n",
              "      <th>new_deaths_smoothed</th>\n",
              "      <th>...</th>\n",
              "      <th>gdp_per_capita</th>\n",
              "      <th>extreme_poverty</th>\n",
              "      <th>cardiovasc_death_rate</th>\n",
              "      <th>diabetes_prevalence</th>\n",
              "      <th>female_smokers</th>\n",
              "      <th>male_smokers</th>\n",
              "      <th>handwashing_facilities</th>\n",
              "      <th>hospital_beds_per_thousand</th>\n",
              "      <th>life_expectancy</th>\n",
              "      <th>human_development_index</th>\n",
              "    </tr>\n",
              "  </thead>\n",
              "  <tbody>\n",
              "    <tr>\n",
              "      <th>count</th>\n",
              "      <td>57071</td>\n",
              "      <td>56748</td>\n",
              "      <td>57394</td>\n",
              "      <td>57394</td>\n",
              "      <td>5.375800e+04</td>\n",
              "      <td>56465.000000</td>\n",
              "      <td>55652.000000</td>\n",
              "      <td>4.436800e+04</td>\n",
              "      <td>56465.000000</td>\n",
              "      <td>55652.000000</td>\n",
              "      <td>...</td>\n",
              "      <td>50367.000000</td>\n",
              "      <td>33571.000000</td>\n",
              "      <td>51013.000000</td>\n",
              "      <td>52881.000000</td>\n",
              "      <td>39669.000000</td>\n",
              "      <td>39156.000000</td>\n",
              "      <td>24176.000000</td>\n",
              "      <td>45936.000000</td>\n",
              "      <td>56336.000000</td>\n",
              "      <td>49247.000000</td>\n",
              "    </tr>\n",
              "    <tr>\n",
              "      <th>unique</th>\n",
              "      <td>215</td>\n",
              "      <td>6</td>\n",
              "      <td>216</td>\n",
              "      <td>323</td>\n",
              "      <td>NaN</td>\n",
              "      <td>NaN</td>\n",
              "      <td>NaN</td>\n",
              "      <td>NaN</td>\n",
              "      <td>NaN</td>\n",
              "      <td>NaN</td>\n",
              "      <td>...</td>\n",
              "      <td>NaN</td>\n",
              "      <td>NaN</td>\n",
              "      <td>NaN</td>\n",
              "      <td>NaN</td>\n",
              "      <td>NaN</td>\n",
              "      <td>NaN</td>\n",
              "      <td>NaN</td>\n",
              "      <td>NaN</td>\n",
              "      <td>NaN</td>\n",
              "      <td>NaN</td>\n",
              "    </tr>\n",
              "    <tr>\n",
              "      <th>top</th>\n",
              "      <td>AFG</td>\n",
              "      <td>Europe</td>\n",
              "      <td>Afghanistan</td>\n",
              "      <td>30/10/20</td>\n",
              "      <td>NaN</td>\n",
              "      <td>NaN</td>\n",
              "      <td>NaN</td>\n",
              "      <td>NaN</td>\n",
              "      <td>NaN</td>\n",
              "      <td>NaN</td>\n",
              "      <td>...</td>\n",
              "      <td>NaN</td>\n",
              "      <td>NaN</td>\n",
              "      <td>NaN</td>\n",
              "      <td>NaN</td>\n",
              "      <td>NaN</td>\n",
              "      <td>NaN</td>\n",
              "      <td>NaN</td>\n",
              "      <td>NaN</td>\n",
              "      <td>NaN</td>\n",
              "      <td>NaN</td>\n",
              "    </tr>\n",
              "    <tr>\n",
              "      <th>freq</th>\n",
              "      <td>323</td>\n",
              "      <td>14828</td>\n",
              "      <td>323</td>\n",
              "      <td>215</td>\n",
              "      <td>NaN</td>\n",
              "      <td>NaN</td>\n",
              "      <td>NaN</td>\n",
              "      <td>NaN</td>\n",
              "      <td>NaN</td>\n",
              "      <td>NaN</td>\n",
              "      <td>...</td>\n",
              "      <td>NaN</td>\n",
              "      <td>NaN</td>\n",
              "      <td>NaN</td>\n",
              "      <td>NaN</td>\n",
              "      <td>NaN</td>\n",
              "      <td>NaN</td>\n",
              "      <td>NaN</td>\n",
              "      <td>NaN</td>\n",
              "      <td>NaN</td>\n",
              "      <td>NaN</td>\n",
              "    </tr>\n",
              "    <tr>\n",
              "      <th>mean</th>\n",
              "      <td>NaN</td>\n",
              "      <td>NaN</td>\n",
              "      <td>NaN</td>\n",
              "      <td>NaN</td>\n",
              "      <td>1.677974e+05</td>\n",
              "      <td>1953.576941</td>\n",
              "      <td>1920.431953</td>\n",
              "      <td>6.858639e+03</td>\n",
              "      <td>47.054317</td>\n",
              "      <td>46.835439</td>\n",
              "      <td>...</td>\n",
              "      <td>20620.172071</td>\n",
              "      <td>12.435453</td>\n",
              "      <td>252.646642</td>\n",
              "      <td>8.070269</td>\n",
              "      <td>10.741569</td>\n",
              "      <td>32.642686</td>\n",
              "      <td>52.089636</td>\n",
              "      <td>3.089724</td>\n",
              "      <td>73.937780</td>\n",
              "      <td>0.722223</td>\n",
              "    </tr>\n",
              "    <tr>\n",
              "      <th>std</th>\n",
              "      <td>NaN</td>\n",
              "      <td>NaN</td>\n",
              "      <td>NaN</td>\n",
              "      <td>NaN</td>\n",
              "      <td>1.693038e+06</td>\n",
              "      <td>18269.650340</td>\n",
              "      <td>17777.391785</td>\n",
              "      <td>5.578081e+04</td>\n",
              "      <td>390.853776</td>\n",
              "      <td>378.272794</td>\n",
              "      <td>...</td>\n",
              "      <td>20310.999832</td>\n",
              "      <td>19.427924</td>\n",
              "      <td>117.522344</td>\n",
              "      <td>4.189605</td>\n",
              "      <td>10.470743</td>\n",
              "      <td>13.453566</td>\n",
              "      <td>31.645306</td>\n",
              "      <td>2.513193</td>\n",
              "      <td>7.397016</td>\n",
              "      <td>0.153261</td>\n",
              "    </tr>\n",
              "    <tr>\n",
              "      <th>min</th>\n",
              "      <td>NaN</td>\n",
              "      <td>NaN</td>\n",
              "      <td>NaN</td>\n",
              "      <td>NaN</td>\n",
              "      <td>1.000000e+00</td>\n",
              "      <td>-8261.000000</td>\n",
              "      <td>-552.000000</td>\n",
              "      <td>1.000000e+00</td>\n",
              "      <td>-1918.000000</td>\n",
              "      <td>-232.143000</td>\n",
              "      <td>...</td>\n",
              "      <td>661.240000</td>\n",
              "      <td>0.100000</td>\n",
              "      <td>79.370000</td>\n",
              "      <td>0.990000</td>\n",
              "      <td>0.100000</td>\n",
              "      <td>7.700000</td>\n",
              "      <td>1.188000</td>\n",
              "      <td>0.100000</td>\n",
              "      <td>53.280000</td>\n",
              "      <td>0.354000</td>\n",
              "    </tr>\n",
              "    <tr>\n",
              "      <th>25%</th>\n",
              "      <td>NaN</td>\n",
              "      <td>NaN</td>\n",
              "      <td>NaN</td>\n",
              "      <td>NaN</td>\n",
              "      <td>1.800000e+02</td>\n",
              "      <td>0.000000</td>\n",
              "      <td>0.857000</td>\n",
              "      <td>1.300000e+01</td>\n",
              "      <td>0.000000</td>\n",
              "      <td>0.000000</td>\n",
              "      <td>...</td>\n",
              "      <td>5321.444000</td>\n",
              "      <td>0.500000</td>\n",
              "      <td>156.139000</td>\n",
              "      <td>5.310000</td>\n",
              "      <td>1.900000</td>\n",
              "      <td>21.400000</td>\n",
              "      <td>21.222000</td>\n",
              "      <td>1.300000</td>\n",
              "      <td>69.870000</td>\n",
              "      <td>0.601000</td>\n",
              "    </tr>\n",
              "    <tr>\n",
              "      <th>50%</th>\n",
              "      <td>NaN</td>\n",
              "      <td>NaN</td>\n",
              "      <td>NaN</td>\n",
              "      <td>NaN</td>\n",
              "      <td>2.070000e+03</td>\n",
              "      <td>14.000000</td>\n",
              "      <td>19.429000</td>\n",
              "      <td>8.400000e+01</td>\n",
              "      <td>0.000000</td>\n",
              "      <td>0.286000</td>\n",
              "      <td>...</td>\n",
              "      <td>13913.839000</td>\n",
              "      <td>2.000000</td>\n",
              "      <td>238.339000</td>\n",
              "      <td>7.110000</td>\n",
              "      <td>6.400000</td>\n",
              "      <td>31.400000</td>\n",
              "      <td>52.232000</td>\n",
              "      <td>2.500000</td>\n",
              "      <td>75.345000</td>\n",
              "      <td>0.752000</td>\n",
              "    </tr>\n",
              "    <tr>\n",
              "      <th>75%</th>\n",
              "      <td>NaN</td>\n",
              "      <td>NaN</td>\n",
              "      <td>NaN</td>\n",
              "      <td>NaN</td>\n",
              "      <td>2.235675e+04</td>\n",
              "      <td>235.000000</td>\n",
              "      <td>245.286000</td>\n",
              "      <td>7.270000e+02</td>\n",
              "      <td>4.000000</td>\n",
              "      <td>4.000000</td>\n",
              "      <td>...</td>\n",
              "      <td>31400.840000</td>\n",
              "      <td>18.100000</td>\n",
              "      <td>318.991000</td>\n",
              "      <td>10.390000</td>\n",
              "      <td>19.600000</td>\n",
              "      <td>40.900000</td>\n",
              "      <td>83.741000</td>\n",
              "      <td>4.200000</td>\n",
              "      <td>79.380000</td>\n",
              "      <td>0.847000</td>\n",
              "    </tr>\n",
              "    <tr>\n",
              "      <th>max</th>\n",
              "      <td>NaN</td>\n",
              "      <td>NaN</td>\n",
              "      <td>NaN</td>\n",
              "      <td>NaN</td>\n",
              "      <td>5.515465e+07</td>\n",
              "      <td>646281.000000</td>\n",
              "      <td>584981.857000</td>\n",
              "      <td>1.328537e+06</td>\n",
              "      <td>10600.000000</td>\n",
              "      <td>9027.714000</td>\n",
              "      <td>...</td>\n",
              "      <td>116935.600000</td>\n",
              "      <td>77.600000</td>\n",
              "      <td>724.417000</td>\n",
              "      <td>30.530000</td>\n",
              "      <td>44.000000</td>\n",
              "      <td>78.100000</td>\n",
              "      <td>98.999000</td>\n",
              "      <td>13.800000</td>\n",
              "      <td>86.750000</td>\n",
              "      <td>0.953000</td>\n",
              "    </tr>\n",
              "  </tbody>\n",
              "</table>\n",
              "<p>11 rows × 49 columns</p>\n",
              "</div>"
            ],
            "text/plain": [
              "       iso_code continent     location      date   total_cases      new_cases  \\\n",
              "count     57071     56748        57394     57394  5.375800e+04   56465.000000   \n",
              "unique      215         6          216       323           NaN            NaN   \n",
              "top         AFG    Europe  Afghanistan  30/10/20           NaN            NaN   \n",
              "freq        323     14828          323       215           NaN            NaN   \n",
              "mean        NaN       NaN          NaN       NaN  1.677974e+05    1953.576941   \n",
              "std         NaN       NaN          NaN       NaN  1.693038e+06   18269.650340   \n",
              "min         NaN       NaN          NaN       NaN  1.000000e+00   -8261.000000   \n",
              "25%         NaN       NaN          NaN       NaN  1.800000e+02       0.000000   \n",
              "50%         NaN       NaN          NaN       NaN  2.070000e+03      14.000000   \n",
              "75%         NaN       NaN          NaN       NaN  2.235675e+04     235.000000   \n",
              "max         NaN       NaN          NaN       NaN  5.515465e+07  646281.000000   \n",
              "\n",
              "        new_cases_smoothed  total_deaths    new_deaths  new_deaths_smoothed  \\\n",
              "count         55652.000000  4.436800e+04  56465.000000         55652.000000   \n",
              "unique                 NaN           NaN           NaN                  NaN   \n",
              "top                    NaN           NaN           NaN                  NaN   \n",
              "freq                   NaN           NaN           NaN                  NaN   \n",
              "mean           1920.431953  6.858639e+03     47.054317            46.835439   \n",
              "std           17777.391785  5.578081e+04    390.853776           378.272794   \n",
              "min            -552.000000  1.000000e+00  -1918.000000          -232.143000   \n",
              "25%               0.857000  1.300000e+01      0.000000             0.000000   \n",
              "50%              19.429000  8.400000e+01      0.000000             0.286000   \n",
              "75%             245.286000  7.270000e+02      4.000000             4.000000   \n",
              "max          584981.857000  1.328537e+06  10600.000000          9027.714000   \n",
              "\n",
              "        ...  gdp_per_capita  extreme_poverty  cardiovasc_death_rate  \\\n",
              "count   ...    50367.000000     33571.000000           51013.000000   \n",
              "unique  ...             NaN              NaN                    NaN   \n",
              "top     ...             NaN              NaN                    NaN   \n",
              "freq    ...             NaN              NaN                    NaN   \n",
              "mean    ...    20620.172071        12.435453             252.646642   \n",
              "std     ...    20310.999832        19.427924             117.522344   \n",
              "min     ...      661.240000         0.100000              79.370000   \n",
              "25%     ...     5321.444000         0.500000             156.139000   \n",
              "50%     ...    13913.839000         2.000000             238.339000   \n",
              "75%     ...    31400.840000        18.100000             318.991000   \n",
              "max     ...   116935.600000        77.600000             724.417000   \n",
              "\n",
              "        diabetes_prevalence  female_smokers  male_smokers  \\\n",
              "count          52881.000000    39669.000000  39156.000000   \n",
              "unique                  NaN             NaN           NaN   \n",
              "top                     NaN             NaN           NaN   \n",
              "freq                    NaN             NaN           NaN   \n",
              "mean               8.070269       10.741569     32.642686   \n",
              "std                4.189605       10.470743     13.453566   \n",
              "min                0.990000        0.100000      7.700000   \n",
              "25%                5.310000        1.900000     21.400000   \n",
              "50%                7.110000        6.400000     31.400000   \n",
              "75%               10.390000       19.600000     40.900000   \n",
              "max               30.530000       44.000000     78.100000   \n",
              "\n",
              "        handwashing_facilities  hospital_beds_per_thousand  life_expectancy  \\\n",
              "count             24176.000000                45936.000000     56336.000000   \n",
              "unique                     NaN                         NaN              NaN   \n",
              "top                        NaN                         NaN              NaN   \n",
              "freq                       NaN                         NaN              NaN   \n",
              "mean                 52.089636                    3.089724        73.937780   \n",
              "std                  31.645306                    2.513193         7.397016   \n",
              "min                   1.188000                    0.100000        53.280000   \n",
              "25%                  21.222000                    1.300000        69.870000   \n",
              "50%                  52.232000                    2.500000        75.345000   \n",
              "75%                  83.741000                    4.200000        79.380000   \n",
              "max                  98.999000                   13.800000        86.750000   \n",
              "\n",
              "        human_development_index  \n",
              "count              49247.000000  \n",
              "unique                      NaN  \n",
              "top                         NaN  \n",
              "freq                        NaN  \n",
              "mean                   0.722223  \n",
              "std                    0.153261  \n",
              "min                    0.354000  \n",
              "25%                    0.601000  \n",
              "50%                    0.752000  \n",
              "75%                    0.847000  \n",
              "max                    0.953000  \n",
              "\n",
              "[11 rows x 49 columns]"
            ]
          },
          "execution_count": 12,
          "metadata": {},
          "output_type": "execute_result"
        }
      ],
      "source": [
        "df1.describe(include=\"all\")"
      ]
    },
    {
      "cell_type": "code",
      "execution_count": null,
      "id": "a6d22262-b092-401e-897f-00beb352030f",
      "metadata": {
        "scrolled": true,
        "id": "a6d22262-b092-401e-897f-00beb352030f",
        "outputId": "5d0329b9-681b-4bd6-b985-85e4ea40c282"
      },
      "outputs": [
        {
          "name": "stdout",
          "output_type": "stream",
          "text": [
            "<class 'pandas.core.frame.DataFrame'>\n",
            "RangeIndex: 57394 entries, 0 to 57393\n",
            "Data columns (total 49 columns):\n",
            " #   Column                              Non-Null Count  Dtype  \n",
            "---  ------                              --------------  -----  \n",
            " 0   iso_code                            57071 non-null  object \n",
            " 1   continent                           56748 non-null  object \n",
            " 2   location                            57394 non-null  object \n",
            " 3   date                                57394 non-null  object \n",
            " 4   total_cases                         53758 non-null  float64\n",
            " 5   new_cases                           56465 non-null  float64\n",
            " 6   new_cases_smoothed                  55652 non-null  float64\n",
            " 7   total_deaths                        44368 non-null  float64\n",
            " 8   new_deaths                          56465 non-null  float64\n",
            " 9   new_deaths_smoothed                 55652 non-null  float64\n",
            " 10  total_cases_per_million             53471 non-null  float64\n",
            " 11  new_cases_per_million               56401 non-null  float64\n",
            " 12  new_cases_smoothed_per_million      55587 non-null  float64\n",
            " 13  total_deaths_per_million            44096 non-null  float64\n",
            " 14  new_deaths_per_million              56401 non-null  float64\n",
            " 15  new_deaths_smoothed_per_million     55587 non-null  float64\n",
            " 16  reproduction_rate                   37696 non-null  float64\n",
            " 17  icu_patients                        4490 non-null   float64\n",
            " 18  icu_patients_per_million            4490 non-null   float64\n",
            " 19  hosp_patients                       5005 non-null   float64\n",
            " 20  hosp_patients_per_million           5005 non-null   float64\n",
            " 21  weekly_icu_admissions               357 non-null    float64\n",
            " 22  weekly_icu_admissions_per_million   357 non-null    float64\n",
            " 23  weekly_hosp_admissions              645 non-null    float64\n",
            " 24  weekly_hosp_admissions_per_million  645 non-null    float64\n",
            " 25  total_tests                         22017 non-null  float64\n",
            " 26  new_tests                           21787 non-null  float64\n",
            " 27  total_tests_per_thousand            22017 non-null  float64\n",
            " 28  new_tests_per_thousand              21787 non-null  float64\n",
            " 29  new_tests_smoothed                  24612 non-null  float64\n",
            " 30  new_tests_smoothed_per_thousand     24612 non-null  float64\n",
            " 31  tests_per_case                      22802 non-null  float64\n",
            " 32  positive_rate                       23211 non-null  float64\n",
            " 33  stringency_index                    47847 non-null  float64\n",
            " 34  population                          57071 non-null  float64\n",
            " 35  population_density                  54371 non-null  float64\n",
            " 36  median_age                          51034 non-null  float64\n",
            " 37  aged_65_older                       50265 non-null  float64\n",
            " 38  aged_70_older                       50768 non-null  float64\n",
            " 39  gdp_per_capita                      50367 non-null  float64\n",
            " 40  extreme_poverty                     33571 non-null  float64\n",
            " 41  cardiovasc_death_rate               51013 non-null  float64\n",
            " 42  diabetes_prevalence                 52881 non-null  float64\n",
            " 43  female_smokers                      39669 non-null  float64\n",
            " 44  male_smokers                        39156 non-null  float64\n",
            " 45  handwashing_facilities              24176 non-null  float64\n",
            " 46  hospital_beds_per_thousand          45936 non-null  float64\n",
            " 47  life_expectancy                     56336 non-null  float64\n",
            " 48  human_development_index             49247 non-null  float64\n",
            "dtypes: float64(45), object(4)\n",
            "memory usage: 21.5+ MB\n"
          ]
        }
      ],
      "source": [
        "# Info of data\n",
        "df1.info()"
      ]
    },
    {
      "cell_type": "markdown",
      "id": "99058bcc-7a9c-4543-b4cd-6abfc8371bb8",
      "metadata": {
        "id": "99058bcc-7a9c-4543-b4cd-6abfc8371bb8"
      },
      "source": [
        "## 3. Low level Understanding:"
      ]
    },
    {
      "cell_type": "markdown",
      "id": "bcc53138-7c6f-4376-a5b6-1c2d2b98544c",
      "metadata": {
        "id": "bcc53138-7c6f-4376-a5b6-1c2d2b98544c"
      },
      "source": [
        "### a. Count of unique values in location column:"
      ]
    },
    {
      "cell_type": "code",
      "execution_count": null,
      "id": "d1bbf8cb-f64c-4099-81d4-57babaeea08e",
      "metadata": {
        "id": "d1bbf8cb-f64c-4099-81d4-57babaeea08e",
        "outputId": "86e046f6-b6da-47f9-ba54-4b8ceedefdd7"
      },
      "outputs": [
        {
          "data": {
            "text/plain": [
              "location\n",
              "Afghanistan          323\n",
              "Iran                 323\n",
              "Macedonia            323\n",
              "Luxembourg           323\n",
              "Lithuania            323\n",
              "                    ... \n",
              "Hong Kong             72\n",
              "Solomon Islands       33\n",
              "Wallis and Futuna     32\n",
              "Marshall Islands      20\n",
              "Vanuatu                7\n",
              "Name: count, Length: 216, dtype: int64"
            ]
          },
          "execution_count": 14,
          "metadata": {},
          "output_type": "execute_result"
        }
      ],
      "source": [
        "df1[\"location\"].value_counts()"
      ]
    },
    {
      "cell_type": "code",
      "execution_count": null,
      "id": "0acd70df-38a0-47de-8d69-fcae00cdaa34",
      "metadata": {
        "id": "0acd70df-38a0-47de-8d69-fcae00cdaa34",
        "outputId": "27b38bcd-6b38-41c3-e790-0598634794db"
      },
      "outputs": [
        {
          "data": {
            "text/plain": [
              "216"
            ]
          },
          "execution_count": 15,
          "metadata": {},
          "output_type": "execute_result"
        }
      ],
      "source": [
        "df1[\"location\"].nunique()"
      ]
    },
    {
      "cell_type": "markdown",
      "id": "28439e7a-4933-4f41-80fe-10990d1247d8",
      "metadata": {
        "id": "28439e7a-4933-4f41-80fe-10990d1247d8"
      },
      "source": [
        "### b. Finding the continent with maximum frequency:"
      ]
    },
    {
      "cell_type": "code",
      "execution_count": null,
      "id": "b0ddb4a1-08f8-4bf3-b3a0-3167c30b258d",
      "metadata": {
        "id": "b0ddb4a1-08f8-4bf3-b3a0-3167c30b258d"
      },
      "outputs": [],
      "source": [
        "continent_count=df1[\"continent\"].value_counts()"
      ]
    },
    {
      "cell_type": "code",
      "execution_count": null,
      "id": "669e265b-d212-4a30-8253-3e4a14706a97",
      "metadata": {
        "id": "669e265b-d212-4a30-8253-3e4a14706a97",
        "outputId": "9497873e-3e88-42e0-ac56-10d2b22c99f5"
      },
      "outputs": [
        {
          "data": {
            "text/plain": [
              "continent\n",
              "Europe           14828\n",
              "Africa           13637\n",
              "Asia             13528\n",
              "North America     9116\n",
              "South America     3404\n",
              "Oceania           2235\n",
              "Name: count, dtype: int64"
            ]
          },
          "execution_count": 17,
          "metadata": {},
          "output_type": "execute_result"
        }
      ],
      "source": [
        "continent_count"
      ]
    },
    {
      "cell_type": "code",
      "execution_count": null,
      "id": "066bd3a2-d234-442e-952d-f47a17e5b442",
      "metadata": {
        "id": "066bd3a2-d234-442e-952d-f47a17e5b442"
      },
      "outputs": [],
      "source": [
        "most_frequent_continent=continent_count.head(1)"
      ]
    },
    {
      "cell_type": "code",
      "execution_count": null,
      "id": "37b9736f-161d-4b39-a6f6-9110f807cbef",
      "metadata": {
        "id": "37b9736f-161d-4b39-a6f6-9110f807cbef",
        "outputId": "1907b411-6300-4ea4-f4ec-2c8d54d6c3ce"
      },
      "outputs": [
        {
          "data": {
            "text/plain": [
              "continent\n",
              "Europe    14828\n",
              "Name: count, dtype: int64"
            ]
          },
          "execution_count": 19,
          "metadata": {},
          "output_type": "execute_result"
        }
      ],
      "source": [
        "most_frequent_continent"
      ]
    },
    {
      "cell_type": "markdown",
      "id": "c036e94f-52aa-4ead-bf4b-1f7ce981d267",
      "metadata": {
        "id": "c036e94f-52aa-4ead-bf4b-1f7ce981d267"
      },
      "source": [
        "### c. Maximun and mean value of 'total_case':"
      ]
    },
    {
      "cell_type": "code",
      "execution_count": null,
      "id": "22469277-702d-4219-bfc8-3c1f1bb80daa",
      "metadata": {
        "id": "22469277-702d-4219-bfc8-3c1f1bb80daa",
        "outputId": "1e2246b3-0288-46de-e568-e9abf33045d7"
      },
      "outputs": [
        {
          "data": {
            "text/plain": [
              "55154651.0"
            ]
          },
          "execution_count": 20,
          "metadata": {},
          "output_type": "execute_result"
        }
      ],
      "source": [
        "# Maximum value of feature total_case\n",
        "df1[\"total_cases\"].max()"
      ]
    },
    {
      "cell_type": "code",
      "execution_count": null,
      "id": "675b1f99-2cb0-4484-8e09-3ab5f11689e2",
      "metadata": {
        "id": "675b1f99-2cb0-4484-8e09-3ab5f11689e2",
        "outputId": "e75cfeac-3db5-4c17-b106-c0f8e9984a02"
      },
      "outputs": [
        {
          "data": {
            "text/plain": [
              "167797.3688753302"
            ]
          },
          "execution_count": 21,
          "metadata": {},
          "output_type": "execute_result"
        }
      ],
      "source": [
        "# Mean value of feature feature total_cases\n",
        "df1[\"total_cases\"].mean()"
      ]
    },
    {
      "cell_type": "code",
      "execution_count": null,
      "id": "0a9bb92a-bac7-4022-8cc9-9b057b9f207d",
      "metadata": {
        "id": "0a9bb92a-bac7-4022-8cc9-9b057b9f207d",
        "outputId": "cc4c9100-bd55-46c5-bd09-b8752c9ccb4e"
      },
      "outputs": [
        {
          "data": {
            "text/plain": [
              "1.0"
            ]
          },
          "execution_count": 22,
          "metadata": {},
          "output_type": "execute_result"
        }
      ],
      "source": [
        "# Minimum value of feature total_case\n",
        "df1[\"total_cases\"].min()"
      ]
    },
    {
      "cell_type": "markdown",
      "id": "9c527430-5568-45b9-bab5-d9c9b451c77b",
      "metadata": {
        "id": "9c527430-5568-45b9-bab5-d9c9b451c77b"
      },
      "source": [
        "### d. 25%, 50% and 75% quartile values in 'total_deaths' feature:"
      ]
    },
    {
      "cell_type": "code",
      "execution_count": null,
      "id": "76ee1a40-4d68-405a-9cb9-60ca5365996c",
      "metadata": {
        "id": "76ee1a40-4d68-405a-9cb9-60ca5365996c",
        "outputId": "3f6956ba-1d14-44ba-8752-d1bc111efe9f"
      },
      "outputs": [
        {
          "data": {
            "text/plain": [
              "count    4.436800e+04\n",
              "mean     6.858639e+03\n",
              "std      5.578081e+04\n",
              "min      1.000000e+00\n",
              "25%      1.300000e+01\n",
              "50%      8.400000e+01\n",
              "75%      7.270000e+02\n",
              "max      1.328537e+06\n",
              "Name: total_deaths, dtype: float64"
            ]
          },
          "execution_count": 23,
          "metadata": {},
          "output_type": "execute_result"
        }
      ],
      "source": [
        "df1[\"total_deaths\"].describe()"
      ]
    },
    {
      "cell_type": "code",
      "execution_count": null,
      "id": "b7e2729e-1436-46e9-a78e-f828f4adbfa7",
      "metadata": {
        "id": "b7e2729e-1436-46e9-a78e-f828f4adbfa7",
        "outputId": "c1ed1bb5-55f3-44a8-e0a7-04b354f88ab3"
      },
      "outputs": [
        {
          "data": {
            "text/plain": [
              "0.25     13.0\n",
              "0.50     84.0\n",
              "0.75    727.0\n",
              "Name: total_deaths, dtype: float64"
            ]
          },
          "execution_count": 24,
          "metadata": {},
          "output_type": "execute_result"
        }
      ],
      "source": [
        "df1[\"total_deaths\"].quantile([0.25,0.5,0.75])"
      ]
    },
    {
      "cell_type": "markdown",
      "id": "245f06e6-db57-47e6-a184-123cd70cde9c",
      "metadata": {
        "id": "245f06e6-db57-47e6-a184-123cd70cde9c"
      },
      "source": [
        "### e. continent with maximun 'human_development_index':"
      ]
    },
    {
      "cell_type": "code",
      "execution_count": null,
      "id": "a3231b55-5c14-45df-8f21-3c68825a3fac",
      "metadata": {
        "id": "a3231b55-5c14-45df-8f21-3c68825a3fac"
      },
      "outputs": [],
      "source": [
        "max_HDI=df1.groupby('continent')[\"human_development_index\"].max()"
      ]
    },
    {
      "cell_type": "code",
      "execution_count": null,
      "id": "9f1dea09-5511-4571-8859-34db0e733703",
      "metadata": {
        "id": "9f1dea09-5511-4571-8859-34db0e733703",
        "outputId": "d751cdae-a5f6-4741-906b-e636110078d4"
      },
      "outputs": [
        {
          "data": {
            "text/plain": [
              "continent\n",
              "Africa           0.797\n",
              "Asia             0.933\n",
              "Europe           0.953\n",
              "North America    0.926\n",
              "Oceania          0.939\n",
              "South America    0.843\n",
              "Name: human_development_index, dtype: float64"
            ]
          },
          "execution_count": 26,
          "metadata": {},
          "output_type": "execute_result"
        }
      ],
      "source": [
        "max_HDI"
      ]
    },
    {
      "cell_type": "code",
      "execution_count": null,
      "id": "7fdf2dc9-87ac-4b99-b86f-221e99ba8add",
      "metadata": {
        "id": "7fdf2dc9-87ac-4b99-b86f-221e99ba8add",
        "outputId": "93f2a279-06c1-48de-8853-5330123d3969"
      },
      "outputs": [
        {
          "data": {
            "text/plain": [
              "continent\n",
              "Africa    0.797\n",
              "Name: human_development_index, dtype: float64"
            ]
          },
          "execution_count": 27,
          "metadata": {},
          "output_type": "execute_result"
        }
      ],
      "source": [
        "max_HDI.head(1)"
      ]
    },
    {
      "cell_type": "markdown",
      "id": "49117c45-aad3-4260-bdb2-18b72b7a4b3a",
      "metadata": {
        "id": "49117c45-aad3-4260-bdb2-18b72b7a4b3a"
      },
      "source": [
        "### f. find which continent has minimum 'gdp_per_capita':"
      ]
    },
    {
      "cell_type": "code",
      "execution_count": null,
      "id": "57cbe6b5-5011-4928-bfc2-04c91f0dbf60",
      "metadata": {
        "id": "57cbe6b5-5011-4928-bfc2-04c91f0dbf60"
      },
      "outputs": [],
      "source": [
        "min_GPC=df1.groupby('continent')[\"gdp_per_capita\"].min().head(1)"
      ]
    },
    {
      "cell_type": "code",
      "execution_count": null,
      "id": "c2b24527-9fb0-4342-bf9a-bd21932303ce",
      "metadata": {
        "id": "c2b24527-9fb0-4342-bf9a-bd21932303ce",
        "outputId": "f9c6e024-276c-4eb9-927d-9dfa8b877500"
      },
      "outputs": [
        {
          "data": {
            "text/plain": [
              "continent\n",
              "Africa    661.24\n",
              "Name: gdp_per_capita, dtype: float64"
            ]
          },
          "execution_count": 29,
          "metadata": {},
          "output_type": "execute_result"
        }
      ],
      "source": [
        "min_GPC"
      ]
    },
    {
      "cell_type": "markdown",
      "id": "12a4db4a-7200-4702-ad9e-4c563b60193a",
      "metadata": {
        "id": "12a4db4a-7200-4702-ad9e-4c563b60193a"
      },
      "source": [
        "## 4.Filter the dataframe with below columns:"
      ]
    },
    {
      "cell_type": "markdown",
      "id": "74f5b6ea-86b8-457f-9723-6c78c5846931",
      "metadata": {
        "id": "74f5b6ea-86b8-457f-9723-6c78c5846931"
      },
      "source": [
        "### columns are: [\"continent\",\"location\",\"date\",\"total_cases\",\"total_deaths\",\"gdp_per_capita\",\"human_development_index\"]"
      ]
    },
    {
      "cell_type": "code",
      "execution_count": null,
      "id": "93ba34e7-414d-4562-a0a0-63444ed803d8",
      "metadata": {
        "id": "93ba34e7-414d-4562-a0a0-63444ed803d8"
      },
      "outputs": [],
      "source": [
        "df2=df1.copy()"
      ]
    },
    {
      "cell_type": "code",
      "execution_count": null,
      "id": "2c23f2af-7e83-4499-9a45-744325caf959",
      "metadata": {
        "id": "2c23f2af-7e83-4499-9a45-744325caf959"
      },
      "outputs": [],
      "source": [
        "df1=df1[[\"continent\",\"location\",\"date\",\"total_cases\",\"total_deaths\",\"gdp_per_capita\",\"human_development_index\"]]"
      ]
    },
    {
      "cell_type": "code",
      "execution_count": null,
      "id": "6e534448-30b1-48f1-b6c4-b11686eff122",
      "metadata": {
        "id": "6e534448-30b1-48f1-b6c4-b11686eff122",
        "outputId": "96fb6a36-870f-42f5-d171-803d2e5c94a4"
      },
      "outputs": [
        {
          "data": {
            "text/html": [
              "<div>\n",
              "<style scoped>\n",
              "    .dataframe tbody tr th:only-of-type {\n",
              "        vertical-align: middle;\n",
              "    }\n",
              "\n",
              "    .dataframe tbody tr th {\n",
              "        vertical-align: top;\n",
              "    }\n",
              "\n",
              "    .dataframe thead th {\n",
              "        text-align: right;\n",
              "    }\n",
              "</style>\n",
              "<table border=\"1\" class=\"dataframe\">\n",
              "  <thead>\n",
              "    <tr style=\"text-align: right;\">\n",
              "      <th></th>\n",
              "      <th>continent</th>\n",
              "      <th>location</th>\n",
              "      <th>date</th>\n",
              "      <th>total_cases</th>\n",
              "      <th>total_deaths</th>\n",
              "      <th>gdp_per_capita</th>\n",
              "      <th>human_development_index</th>\n",
              "    </tr>\n",
              "  </thead>\n",
              "  <tbody>\n",
              "    <tr>\n",
              "      <th>0</th>\n",
              "      <td>Asia</td>\n",
              "      <td>Afghanistan</td>\n",
              "      <td>31/12/19</td>\n",
              "      <td>NaN</td>\n",
              "      <td>NaN</td>\n",
              "      <td>1803.987</td>\n",
              "      <td>0.498</td>\n",
              "    </tr>\n",
              "    <tr>\n",
              "      <th>1</th>\n",
              "      <td>Asia</td>\n",
              "      <td>Afghanistan</td>\n",
              "      <td>01/01/20</td>\n",
              "      <td>NaN</td>\n",
              "      <td>NaN</td>\n",
              "      <td>1803.987</td>\n",
              "      <td>0.498</td>\n",
              "    </tr>\n",
              "    <tr>\n",
              "      <th>2</th>\n",
              "      <td>Asia</td>\n",
              "      <td>Afghanistan</td>\n",
              "      <td>02/01/20</td>\n",
              "      <td>NaN</td>\n",
              "      <td>NaN</td>\n",
              "      <td>1803.987</td>\n",
              "      <td>0.498</td>\n",
              "    </tr>\n",
              "    <tr>\n",
              "      <th>3</th>\n",
              "      <td>Asia</td>\n",
              "      <td>Afghanistan</td>\n",
              "      <td>03/01/20</td>\n",
              "      <td>NaN</td>\n",
              "      <td>NaN</td>\n",
              "      <td>1803.987</td>\n",
              "      <td>0.498</td>\n",
              "    </tr>\n",
              "    <tr>\n",
              "      <th>4</th>\n",
              "      <td>Asia</td>\n",
              "      <td>Afghanistan</td>\n",
              "      <td>04/01/20</td>\n",
              "      <td>NaN</td>\n",
              "      <td>NaN</td>\n",
              "      <td>1803.987</td>\n",
              "      <td>0.498</td>\n",
              "    </tr>\n",
              "    <tr>\n",
              "      <th>...</th>\n",
              "      <td>...</td>\n",
              "      <td>...</td>\n",
              "      <td>...</td>\n",
              "      <td>...</td>\n",
              "      <td>...</td>\n",
              "      <td>...</td>\n",
              "      <td>...</td>\n",
              "    </tr>\n",
              "    <tr>\n",
              "      <th>57389</th>\n",
              "      <td>NaN</td>\n",
              "      <td>International</td>\n",
              "      <td>13/11/20</td>\n",
              "      <td>696.0</td>\n",
              "      <td>7.0</td>\n",
              "      <td>NaN</td>\n",
              "      <td>NaN</td>\n",
              "    </tr>\n",
              "    <tr>\n",
              "      <th>57390</th>\n",
              "      <td>NaN</td>\n",
              "      <td>International</td>\n",
              "      <td>14/11/20</td>\n",
              "      <td>696.0</td>\n",
              "      <td>7.0</td>\n",
              "      <td>NaN</td>\n",
              "      <td>NaN</td>\n",
              "    </tr>\n",
              "    <tr>\n",
              "      <th>57391</th>\n",
              "      <td>NaN</td>\n",
              "      <td>International</td>\n",
              "      <td>15/11/20</td>\n",
              "      <td>696.0</td>\n",
              "      <td>7.0</td>\n",
              "      <td>NaN</td>\n",
              "      <td>NaN</td>\n",
              "    </tr>\n",
              "    <tr>\n",
              "      <th>57392</th>\n",
              "      <td>NaN</td>\n",
              "      <td>International</td>\n",
              "      <td>16/11/20</td>\n",
              "      <td>696.0</td>\n",
              "      <td>7.0</td>\n",
              "      <td>NaN</td>\n",
              "      <td>NaN</td>\n",
              "    </tr>\n",
              "    <tr>\n",
              "      <th>57393</th>\n",
              "      <td>NaN</td>\n",
              "      <td>International</td>\n",
              "      <td>17/11/20</td>\n",
              "      <td>696.0</td>\n",
              "      <td>7.0</td>\n",
              "      <td>NaN</td>\n",
              "      <td>NaN</td>\n",
              "    </tr>\n",
              "  </tbody>\n",
              "</table>\n",
              "<p>57394 rows × 7 columns</p>\n",
              "</div>"
            ],
            "text/plain": [
              "      continent       location      date  total_cases  total_deaths  \\\n",
              "0          Asia    Afghanistan  31/12/19          NaN           NaN   \n",
              "1          Asia    Afghanistan  01/01/20          NaN           NaN   \n",
              "2          Asia    Afghanistan  02/01/20          NaN           NaN   \n",
              "3          Asia    Afghanistan  03/01/20          NaN           NaN   \n",
              "4          Asia    Afghanistan  04/01/20          NaN           NaN   \n",
              "...         ...            ...       ...          ...           ...   \n",
              "57389       NaN  International  13/11/20        696.0           7.0   \n",
              "57390       NaN  International  14/11/20        696.0           7.0   \n",
              "57391       NaN  International  15/11/20        696.0           7.0   \n",
              "57392       NaN  International  16/11/20        696.0           7.0   \n",
              "57393       NaN  International  17/11/20        696.0           7.0   \n",
              "\n",
              "       gdp_per_capita  human_development_index  \n",
              "0            1803.987                    0.498  \n",
              "1            1803.987                    0.498  \n",
              "2            1803.987                    0.498  \n",
              "3            1803.987                    0.498  \n",
              "4            1803.987                    0.498  \n",
              "...               ...                      ...  \n",
              "57389             NaN                      NaN  \n",
              "57390             NaN                      NaN  \n",
              "57391             NaN                      NaN  \n",
              "57392             NaN                      NaN  \n",
              "57393             NaN                      NaN  \n",
              "\n",
              "[57394 rows x 7 columns]"
            ]
          },
          "execution_count": 32,
          "metadata": {},
          "output_type": "execute_result"
        }
      ],
      "source": [
        "df1"
      ]
    },
    {
      "cell_type": "markdown",
      "id": "33d0e051-a56a-4fde-8e83-e4feb45ee82c",
      "metadata": {
        "id": "33d0e051-a56a-4fde-8e83-e4feb45ee82c"
      },
      "source": [
        "## 5. Data cleaning:"
      ]
    },
    {
      "cell_type": "markdown",
      "id": "0deb014e-2b86-40ce-9851-bf44daf36cf8",
      "metadata": {
        "id": "0deb014e-2b86-40ce-9851-bf44daf36cf8"
      },
      "source": [
        "### a. Remove all duplicate observation:"
      ]
    },
    {
      "cell_type": "code",
      "execution_count": null,
      "id": "566c0230-52e3-448d-9cbb-df43fed8b498",
      "metadata": {
        "id": "566c0230-52e3-448d-9cbb-df43fed8b498",
        "outputId": "0aaff493-770c-4265-c3b7-9223f53c7839"
      },
      "outputs": [
        {
          "data": {
            "text/plain": [
              "0"
            ]
          },
          "execution_count": 33,
          "metadata": {},
          "output_type": "execute_result"
        }
      ],
      "source": [
        "df1.duplicated().sum()"
      ]
    },
    {
      "cell_type": "code",
      "execution_count": null,
      "id": "847ebd22-ca51-447c-b97d-feb3ae9f41d8",
      "metadata": {
        "id": "847ebd22-ca51-447c-b97d-feb3ae9f41d8"
      },
      "outputs": [],
      "source": [
        "df1=df1.drop_duplicates()"
      ]
    },
    {
      "cell_type": "code",
      "execution_count": null,
      "id": "4fac12af-676e-4e6f-b1f6-ad66a3f63eeb",
      "metadata": {
        "id": "4fac12af-676e-4e6f-b1f6-ad66a3f63eeb",
        "outputId": "1b39f600-c03b-4752-96d7-2617c1155ab2"
      },
      "outputs": [
        {
          "data": {
            "text/html": [
              "<div>\n",
              "<style scoped>\n",
              "    .dataframe tbody tr th:only-of-type {\n",
              "        vertical-align: middle;\n",
              "    }\n",
              "\n",
              "    .dataframe tbody tr th {\n",
              "        vertical-align: top;\n",
              "    }\n",
              "\n",
              "    .dataframe thead th {\n",
              "        text-align: right;\n",
              "    }\n",
              "</style>\n",
              "<table border=\"1\" class=\"dataframe\">\n",
              "  <thead>\n",
              "    <tr style=\"text-align: right;\">\n",
              "      <th></th>\n",
              "      <th>continent</th>\n",
              "      <th>location</th>\n",
              "      <th>date</th>\n",
              "      <th>total_cases</th>\n",
              "      <th>total_deaths</th>\n",
              "      <th>gdp_per_capita</th>\n",
              "      <th>human_development_index</th>\n",
              "    </tr>\n",
              "  </thead>\n",
              "  <tbody>\n",
              "    <tr>\n",
              "      <th>0</th>\n",
              "      <td>Asia</td>\n",
              "      <td>Afghanistan</td>\n",
              "      <td>31/12/19</td>\n",
              "      <td>NaN</td>\n",
              "      <td>NaN</td>\n",
              "      <td>1803.987</td>\n",
              "      <td>0.498</td>\n",
              "    </tr>\n",
              "    <tr>\n",
              "      <th>1</th>\n",
              "      <td>Asia</td>\n",
              "      <td>Afghanistan</td>\n",
              "      <td>01/01/20</td>\n",
              "      <td>NaN</td>\n",
              "      <td>NaN</td>\n",
              "      <td>1803.987</td>\n",
              "      <td>0.498</td>\n",
              "    </tr>\n",
              "    <tr>\n",
              "      <th>2</th>\n",
              "      <td>Asia</td>\n",
              "      <td>Afghanistan</td>\n",
              "      <td>02/01/20</td>\n",
              "      <td>NaN</td>\n",
              "      <td>NaN</td>\n",
              "      <td>1803.987</td>\n",
              "      <td>0.498</td>\n",
              "    </tr>\n",
              "    <tr>\n",
              "      <th>3</th>\n",
              "      <td>Asia</td>\n",
              "      <td>Afghanistan</td>\n",
              "      <td>03/01/20</td>\n",
              "      <td>NaN</td>\n",
              "      <td>NaN</td>\n",
              "      <td>1803.987</td>\n",
              "      <td>0.498</td>\n",
              "    </tr>\n",
              "    <tr>\n",
              "      <th>4</th>\n",
              "      <td>Asia</td>\n",
              "      <td>Afghanistan</td>\n",
              "      <td>04/01/20</td>\n",
              "      <td>NaN</td>\n",
              "      <td>NaN</td>\n",
              "      <td>1803.987</td>\n",
              "      <td>0.498</td>\n",
              "    </tr>\n",
              "    <tr>\n",
              "      <th>...</th>\n",
              "      <td>...</td>\n",
              "      <td>...</td>\n",
              "      <td>...</td>\n",
              "      <td>...</td>\n",
              "      <td>...</td>\n",
              "      <td>...</td>\n",
              "      <td>...</td>\n",
              "    </tr>\n",
              "    <tr>\n",
              "      <th>57389</th>\n",
              "      <td>NaN</td>\n",
              "      <td>International</td>\n",
              "      <td>13/11/20</td>\n",
              "      <td>696.0</td>\n",
              "      <td>7.0</td>\n",
              "      <td>NaN</td>\n",
              "      <td>NaN</td>\n",
              "    </tr>\n",
              "    <tr>\n",
              "      <th>57390</th>\n",
              "      <td>NaN</td>\n",
              "      <td>International</td>\n",
              "      <td>14/11/20</td>\n",
              "      <td>696.0</td>\n",
              "      <td>7.0</td>\n",
              "      <td>NaN</td>\n",
              "      <td>NaN</td>\n",
              "    </tr>\n",
              "    <tr>\n",
              "      <th>57391</th>\n",
              "      <td>NaN</td>\n",
              "      <td>International</td>\n",
              "      <td>15/11/20</td>\n",
              "      <td>696.0</td>\n",
              "      <td>7.0</td>\n",
              "      <td>NaN</td>\n",
              "      <td>NaN</td>\n",
              "    </tr>\n",
              "    <tr>\n",
              "      <th>57392</th>\n",
              "      <td>NaN</td>\n",
              "      <td>International</td>\n",
              "      <td>16/11/20</td>\n",
              "      <td>696.0</td>\n",
              "      <td>7.0</td>\n",
              "      <td>NaN</td>\n",
              "      <td>NaN</td>\n",
              "    </tr>\n",
              "    <tr>\n",
              "      <th>57393</th>\n",
              "      <td>NaN</td>\n",
              "      <td>International</td>\n",
              "      <td>17/11/20</td>\n",
              "      <td>696.0</td>\n",
              "      <td>7.0</td>\n",
              "      <td>NaN</td>\n",
              "      <td>NaN</td>\n",
              "    </tr>\n",
              "  </tbody>\n",
              "</table>\n",
              "<p>57394 rows × 7 columns</p>\n",
              "</div>"
            ],
            "text/plain": [
              "      continent       location      date  total_cases  total_deaths  \\\n",
              "0          Asia    Afghanistan  31/12/19          NaN           NaN   \n",
              "1          Asia    Afghanistan  01/01/20          NaN           NaN   \n",
              "2          Asia    Afghanistan  02/01/20          NaN           NaN   \n",
              "3          Asia    Afghanistan  03/01/20          NaN           NaN   \n",
              "4          Asia    Afghanistan  04/01/20          NaN           NaN   \n",
              "...         ...            ...       ...          ...           ...   \n",
              "57389       NaN  International  13/11/20        696.0           7.0   \n",
              "57390       NaN  International  14/11/20        696.0           7.0   \n",
              "57391       NaN  International  15/11/20        696.0           7.0   \n",
              "57392       NaN  International  16/11/20        696.0           7.0   \n",
              "57393       NaN  International  17/11/20        696.0           7.0   \n",
              "\n",
              "       gdp_per_capita  human_development_index  \n",
              "0            1803.987                    0.498  \n",
              "1            1803.987                    0.498  \n",
              "2            1803.987                    0.498  \n",
              "3            1803.987                    0.498  \n",
              "4            1803.987                    0.498  \n",
              "...               ...                      ...  \n",
              "57389             NaN                      NaN  \n",
              "57390             NaN                      NaN  \n",
              "57391             NaN                      NaN  \n",
              "57392             NaN                      NaN  \n",
              "57393             NaN                      NaN  \n",
              "\n",
              "[57394 rows x 7 columns]"
            ]
          },
          "execution_count": 35,
          "metadata": {},
          "output_type": "execute_result"
        }
      ],
      "source": [
        "df1"
      ]
    },
    {
      "cell_type": "markdown",
      "id": "69ac07b2-0778-4f91-a873-7a6a67c5b32c",
      "metadata": {
        "id": "69ac07b2-0778-4f91-a873-7a6a67c5b32c"
      },
      "source": [
        "### b. Find missing values in all columns:"
      ]
    },
    {
      "cell_type": "code",
      "execution_count": null,
      "id": "9f082308-6808-485c-af2b-b3e6dc352e14",
      "metadata": {
        "id": "9f082308-6808-485c-af2b-b3e6dc352e14",
        "outputId": "51ff6bbc-1183-4cdd-8f36-206b3bc3f6bc"
      },
      "outputs": [
        {
          "name": "stdout",
          "output_type": "stream",
          "text": [
            "<class 'pandas.core.frame.DataFrame'>\n",
            "RangeIndex: 57394 entries, 0 to 57393\n",
            "Data columns (total 7 columns):\n",
            " #   Column                   Non-Null Count  Dtype  \n",
            "---  ------                   --------------  -----  \n",
            " 0   continent                56748 non-null  object \n",
            " 1   location                 57394 non-null  object \n",
            " 2   date                     57394 non-null  object \n",
            " 3   total_cases              53758 non-null  float64\n",
            " 4   total_deaths             44368 non-null  float64\n",
            " 5   gdp_per_capita           50367 non-null  float64\n",
            " 6   human_development_index  49247 non-null  float64\n",
            "dtypes: float64(4), object(3)\n",
            "memory usage: 3.1+ MB\n"
          ]
        }
      ],
      "source": [
        "df1.info()"
      ]
    },
    {
      "cell_type": "code",
      "execution_count": null,
      "id": "4eccf98a-846b-4acb-a585-e87f59a24aa0",
      "metadata": {
        "id": "4eccf98a-846b-4acb-a585-e87f59a24aa0",
        "outputId": "d9380660-85c1-468c-aee4-88e2369e443e"
      },
      "outputs": [
        {
          "data": {
            "text/plain": [
              "continent                    646\n",
              "location                       0\n",
              "date                           0\n",
              "total_cases                 3636\n",
              "total_deaths               13026\n",
              "gdp_per_capita              7027\n",
              "human_development_index     8147\n",
              "dtype: int64"
            ]
          },
          "execution_count": 37,
          "metadata": {},
          "output_type": "execute_result"
        }
      ],
      "source": [
        "df1.isnull().sum()"
      ]
    },
    {
      "cell_type": "markdown",
      "id": "9b610d58-89aa-41b5-b389-b3f13c8870c1",
      "metadata": {
        "id": "9b610d58-89aa-41b5-b389-b3f13c8870c1"
      },
      "source": [
        "### c. Remove all observation where continent column value is missing:"
      ]
    },
    {
      "cell_type": "code",
      "execution_count": null,
      "id": "5724ab0d-a8d8-42e1-aa51-35c614a1bc9e",
      "metadata": {
        "id": "5724ab0d-a8d8-42e1-aa51-35c614a1bc9e"
      },
      "outputs": [],
      "source": [
        "df1=df1.dropna(subset=[\"continent\"])"
      ]
    },
    {
      "cell_type": "code",
      "execution_count": null,
      "id": "8665403c-dffb-4f1c-938c-b47ee43f6179",
      "metadata": {
        "id": "8665403c-dffb-4f1c-938c-b47ee43f6179",
        "outputId": "fcefffd0-256e-45d5-8806-324484025ed7"
      },
      "outputs": [
        {
          "data": {
            "text/html": [
              "<div>\n",
              "<style scoped>\n",
              "    .dataframe tbody tr th:only-of-type {\n",
              "        vertical-align: middle;\n",
              "    }\n",
              "\n",
              "    .dataframe tbody tr th {\n",
              "        vertical-align: top;\n",
              "    }\n",
              "\n",
              "    .dataframe thead th {\n",
              "        text-align: right;\n",
              "    }\n",
              "</style>\n",
              "<table border=\"1\" class=\"dataframe\">\n",
              "  <thead>\n",
              "    <tr style=\"text-align: right;\">\n",
              "      <th></th>\n",
              "      <th>continent</th>\n",
              "      <th>location</th>\n",
              "      <th>date</th>\n",
              "      <th>total_cases</th>\n",
              "      <th>total_deaths</th>\n",
              "      <th>gdp_per_capita</th>\n",
              "      <th>human_development_index</th>\n",
              "    </tr>\n",
              "  </thead>\n",
              "  <tbody>\n",
              "    <tr>\n",
              "      <th>0</th>\n",
              "      <td>Asia</td>\n",
              "      <td>Afghanistan</td>\n",
              "      <td>31/12/19</td>\n",
              "      <td>NaN</td>\n",
              "      <td>NaN</td>\n",
              "      <td>1803.987</td>\n",
              "      <td>0.498</td>\n",
              "    </tr>\n",
              "    <tr>\n",
              "      <th>1</th>\n",
              "      <td>Asia</td>\n",
              "      <td>Afghanistan</td>\n",
              "      <td>01/01/20</td>\n",
              "      <td>NaN</td>\n",
              "      <td>NaN</td>\n",
              "      <td>1803.987</td>\n",
              "      <td>0.498</td>\n",
              "    </tr>\n",
              "    <tr>\n",
              "      <th>2</th>\n",
              "      <td>Asia</td>\n",
              "      <td>Afghanistan</td>\n",
              "      <td>02/01/20</td>\n",
              "      <td>NaN</td>\n",
              "      <td>NaN</td>\n",
              "      <td>1803.987</td>\n",
              "      <td>0.498</td>\n",
              "    </tr>\n",
              "    <tr>\n",
              "      <th>3</th>\n",
              "      <td>Asia</td>\n",
              "      <td>Afghanistan</td>\n",
              "      <td>03/01/20</td>\n",
              "      <td>NaN</td>\n",
              "      <td>NaN</td>\n",
              "      <td>1803.987</td>\n",
              "      <td>0.498</td>\n",
              "    </tr>\n",
              "    <tr>\n",
              "      <th>4</th>\n",
              "      <td>Asia</td>\n",
              "      <td>Afghanistan</td>\n",
              "      <td>04/01/20</td>\n",
              "      <td>NaN</td>\n",
              "      <td>NaN</td>\n",
              "      <td>1803.987</td>\n",
              "      <td>0.498</td>\n",
              "    </tr>\n",
              "    <tr>\n",
              "      <th>...</th>\n",
              "      <td>...</td>\n",
              "      <td>...</td>\n",
              "      <td>...</td>\n",
              "      <td>...</td>\n",
              "      <td>...</td>\n",
              "      <td>...</td>\n",
              "      <td>...</td>\n",
              "    </tr>\n",
              "    <tr>\n",
              "      <th>56743</th>\n",
              "      <td>Africa</td>\n",
              "      <td>Zimbabwe</td>\n",
              "      <td>13/11/20</td>\n",
              "      <td>8696.0</td>\n",
              "      <td>255.0</td>\n",
              "      <td>1899.775</td>\n",
              "      <td>0.535</td>\n",
              "    </tr>\n",
              "    <tr>\n",
              "      <th>56744</th>\n",
              "      <td>Africa</td>\n",
              "      <td>Zimbabwe</td>\n",
              "      <td>14/11/20</td>\n",
              "      <td>8765.0</td>\n",
              "      <td>257.0</td>\n",
              "      <td>1899.775</td>\n",
              "      <td>0.535</td>\n",
              "    </tr>\n",
              "    <tr>\n",
              "      <th>56745</th>\n",
              "      <td>Africa</td>\n",
              "      <td>Zimbabwe</td>\n",
              "      <td>15/11/20</td>\n",
              "      <td>8786.0</td>\n",
              "      <td>257.0</td>\n",
              "      <td>1899.775</td>\n",
              "      <td>0.535</td>\n",
              "    </tr>\n",
              "    <tr>\n",
              "      <th>56746</th>\n",
              "      <td>Africa</td>\n",
              "      <td>Zimbabwe</td>\n",
              "      <td>16/11/20</td>\n",
              "      <td>8786.0</td>\n",
              "      <td>257.0</td>\n",
              "      <td>1899.775</td>\n",
              "      <td>0.535</td>\n",
              "    </tr>\n",
              "    <tr>\n",
              "      <th>56747</th>\n",
              "      <td>Africa</td>\n",
              "      <td>Zimbabwe</td>\n",
              "      <td>17/11/20</td>\n",
              "      <td>8897.0</td>\n",
              "      <td>257.0</td>\n",
              "      <td>1899.775</td>\n",
              "      <td>0.535</td>\n",
              "    </tr>\n",
              "  </tbody>\n",
              "</table>\n",
              "<p>56748 rows × 7 columns</p>\n",
              "</div>"
            ],
            "text/plain": [
              "      continent     location      date  total_cases  total_deaths  \\\n",
              "0          Asia  Afghanistan  31/12/19          NaN           NaN   \n",
              "1          Asia  Afghanistan  01/01/20          NaN           NaN   \n",
              "2          Asia  Afghanistan  02/01/20          NaN           NaN   \n",
              "3          Asia  Afghanistan  03/01/20          NaN           NaN   \n",
              "4          Asia  Afghanistan  04/01/20          NaN           NaN   \n",
              "...         ...          ...       ...          ...           ...   \n",
              "56743    Africa     Zimbabwe  13/11/20       8696.0         255.0   \n",
              "56744    Africa     Zimbabwe  14/11/20       8765.0         257.0   \n",
              "56745    Africa     Zimbabwe  15/11/20       8786.0         257.0   \n",
              "56746    Africa     Zimbabwe  16/11/20       8786.0         257.0   \n",
              "56747    Africa     Zimbabwe  17/11/20       8897.0         257.0   \n",
              "\n",
              "       gdp_per_capita  human_development_index  \n",
              "0            1803.987                    0.498  \n",
              "1            1803.987                    0.498  \n",
              "2            1803.987                    0.498  \n",
              "3            1803.987                    0.498  \n",
              "4            1803.987                    0.498  \n",
              "...               ...                      ...  \n",
              "56743        1899.775                    0.535  \n",
              "56744        1899.775                    0.535  \n",
              "56745        1899.775                    0.535  \n",
              "56746        1899.775                    0.535  \n",
              "56747        1899.775                    0.535  \n",
              "\n",
              "[56748 rows x 7 columns]"
            ]
          },
          "execution_count": 39,
          "metadata": {},
          "output_type": "execute_result"
        }
      ],
      "source": [
        "df1"
      ]
    },
    {
      "cell_type": "markdown",
      "id": "07b219dd-c132-4398-8538-08e780bfdc87",
      "metadata": {
        "id": "07b219dd-c132-4398-8538-08e780bfdc87"
      },
      "source": [
        "### d. Fill all missing values with 0:"
      ]
    },
    {
      "cell_type": "code",
      "execution_count": null,
      "id": "5d57f5ad-62f6-4c16-b3cd-448b12fddd41",
      "metadata": {
        "id": "5d57f5ad-62f6-4c16-b3cd-448b12fddd41"
      },
      "outputs": [],
      "source": [
        "df1=df1.fillna(0)"
      ]
    },
    {
      "cell_type": "code",
      "execution_count": null,
      "id": "bf99c64c-9f7d-4f7b-bdf7-dec053758cd2",
      "metadata": {
        "id": "bf99c64c-9f7d-4f7b-bdf7-dec053758cd2",
        "outputId": "f93d0593-ae59-4e97-931a-f09eb7a48fef"
      },
      "outputs": [
        {
          "data": {
            "text/html": [
              "<div>\n",
              "<style scoped>\n",
              "    .dataframe tbody tr th:only-of-type {\n",
              "        vertical-align: middle;\n",
              "    }\n",
              "\n",
              "    .dataframe tbody tr th {\n",
              "        vertical-align: top;\n",
              "    }\n",
              "\n",
              "    .dataframe thead th {\n",
              "        text-align: right;\n",
              "    }\n",
              "</style>\n",
              "<table border=\"1\" class=\"dataframe\">\n",
              "  <thead>\n",
              "    <tr style=\"text-align: right;\">\n",
              "      <th></th>\n",
              "      <th>continent</th>\n",
              "      <th>location</th>\n",
              "      <th>date</th>\n",
              "      <th>total_cases</th>\n",
              "      <th>total_deaths</th>\n",
              "      <th>gdp_per_capita</th>\n",
              "      <th>human_development_index</th>\n",
              "    </tr>\n",
              "  </thead>\n",
              "  <tbody>\n",
              "    <tr>\n",
              "      <th>0</th>\n",
              "      <td>Asia</td>\n",
              "      <td>Afghanistan</td>\n",
              "      <td>31/12/19</td>\n",
              "      <td>0.0</td>\n",
              "      <td>0.0</td>\n",
              "      <td>1803.987</td>\n",
              "      <td>0.498</td>\n",
              "    </tr>\n",
              "    <tr>\n",
              "      <th>1</th>\n",
              "      <td>Asia</td>\n",
              "      <td>Afghanistan</td>\n",
              "      <td>01/01/20</td>\n",
              "      <td>0.0</td>\n",
              "      <td>0.0</td>\n",
              "      <td>1803.987</td>\n",
              "      <td>0.498</td>\n",
              "    </tr>\n",
              "    <tr>\n",
              "      <th>2</th>\n",
              "      <td>Asia</td>\n",
              "      <td>Afghanistan</td>\n",
              "      <td>02/01/20</td>\n",
              "      <td>0.0</td>\n",
              "      <td>0.0</td>\n",
              "      <td>1803.987</td>\n",
              "      <td>0.498</td>\n",
              "    </tr>\n",
              "    <tr>\n",
              "      <th>3</th>\n",
              "      <td>Asia</td>\n",
              "      <td>Afghanistan</td>\n",
              "      <td>03/01/20</td>\n",
              "      <td>0.0</td>\n",
              "      <td>0.0</td>\n",
              "      <td>1803.987</td>\n",
              "      <td>0.498</td>\n",
              "    </tr>\n",
              "    <tr>\n",
              "      <th>4</th>\n",
              "      <td>Asia</td>\n",
              "      <td>Afghanistan</td>\n",
              "      <td>04/01/20</td>\n",
              "      <td>0.0</td>\n",
              "      <td>0.0</td>\n",
              "      <td>1803.987</td>\n",
              "      <td>0.498</td>\n",
              "    </tr>\n",
              "    <tr>\n",
              "      <th>...</th>\n",
              "      <td>...</td>\n",
              "      <td>...</td>\n",
              "      <td>...</td>\n",
              "      <td>...</td>\n",
              "      <td>...</td>\n",
              "      <td>...</td>\n",
              "      <td>...</td>\n",
              "    </tr>\n",
              "    <tr>\n",
              "      <th>56743</th>\n",
              "      <td>Africa</td>\n",
              "      <td>Zimbabwe</td>\n",
              "      <td>13/11/20</td>\n",
              "      <td>8696.0</td>\n",
              "      <td>255.0</td>\n",
              "      <td>1899.775</td>\n",
              "      <td>0.535</td>\n",
              "    </tr>\n",
              "    <tr>\n",
              "      <th>56744</th>\n",
              "      <td>Africa</td>\n",
              "      <td>Zimbabwe</td>\n",
              "      <td>14/11/20</td>\n",
              "      <td>8765.0</td>\n",
              "      <td>257.0</td>\n",
              "      <td>1899.775</td>\n",
              "      <td>0.535</td>\n",
              "    </tr>\n",
              "    <tr>\n",
              "      <th>56745</th>\n",
              "      <td>Africa</td>\n",
              "      <td>Zimbabwe</td>\n",
              "      <td>15/11/20</td>\n",
              "      <td>8786.0</td>\n",
              "      <td>257.0</td>\n",
              "      <td>1899.775</td>\n",
              "      <td>0.535</td>\n",
              "    </tr>\n",
              "    <tr>\n",
              "      <th>56746</th>\n",
              "      <td>Africa</td>\n",
              "      <td>Zimbabwe</td>\n",
              "      <td>16/11/20</td>\n",
              "      <td>8786.0</td>\n",
              "      <td>257.0</td>\n",
              "      <td>1899.775</td>\n",
              "      <td>0.535</td>\n",
              "    </tr>\n",
              "    <tr>\n",
              "      <th>56747</th>\n",
              "      <td>Africa</td>\n",
              "      <td>Zimbabwe</td>\n",
              "      <td>17/11/20</td>\n",
              "      <td>8897.0</td>\n",
              "      <td>257.0</td>\n",
              "      <td>1899.775</td>\n",
              "      <td>0.535</td>\n",
              "    </tr>\n",
              "  </tbody>\n",
              "</table>\n",
              "<p>56748 rows × 7 columns</p>\n",
              "</div>"
            ],
            "text/plain": [
              "      continent     location      date  total_cases  total_deaths  \\\n",
              "0          Asia  Afghanistan  31/12/19          0.0           0.0   \n",
              "1          Asia  Afghanistan  01/01/20          0.0           0.0   \n",
              "2          Asia  Afghanistan  02/01/20          0.0           0.0   \n",
              "3          Asia  Afghanistan  03/01/20          0.0           0.0   \n",
              "4          Asia  Afghanistan  04/01/20          0.0           0.0   \n",
              "...         ...          ...       ...          ...           ...   \n",
              "56743    Africa     Zimbabwe  13/11/20       8696.0         255.0   \n",
              "56744    Africa     Zimbabwe  14/11/20       8765.0         257.0   \n",
              "56745    Africa     Zimbabwe  15/11/20       8786.0         257.0   \n",
              "56746    Africa     Zimbabwe  16/11/20       8786.0         257.0   \n",
              "56747    Africa     Zimbabwe  17/11/20       8897.0         257.0   \n",
              "\n",
              "       gdp_per_capita  human_development_index  \n",
              "0            1803.987                    0.498  \n",
              "1            1803.987                    0.498  \n",
              "2            1803.987                    0.498  \n",
              "3            1803.987                    0.498  \n",
              "4            1803.987                    0.498  \n",
              "...               ...                      ...  \n",
              "56743        1899.775                    0.535  \n",
              "56744        1899.775                    0.535  \n",
              "56745        1899.775                    0.535  \n",
              "56746        1899.775                    0.535  \n",
              "56747        1899.775                    0.535  \n",
              "\n",
              "[56748 rows x 7 columns]"
            ]
          },
          "execution_count": 41,
          "metadata": {},
          "output_type": "execute_result"
        }
      ],
      "source": [
        "df1"
      ]
    },
    {
      "cell_type": "markdown",
      "id": "86dcc031-9b51-4b75-a476-82d45d0b93e4",
      "metadata": {
        "id": "86dcc031-9b51-4b75-a476-82d45d0b93e4"
      },
      "source": [
        "## 6. Date Time format:"
      ]
    },
    {
      "cell_type": "markdown",
      "id": "adf46e97-f7ac-450b-867e-43cc5856e76f",
      "metadata": {
        "id": "adf46e97-f7ac-450b-867e-43cc5856e76f"
      },
      "source": [
        "### a. Convert date column in datetime format using pandas.to_datetime:"
      ]
    },
    {
      "cell_type": "code",
      "execution_count": null,
      "id": "1e68bce1-188e-4a46-aba1-28a1c48b204f",
      "metadata": {
        "id": "1e68bce1-188e-4a46-aba1-28a1c48b204f"
      },
      "outputs": [],
      "source": [
        "df1[\"date\"]=pd.to_datetime(df1[\"date\"],format=\"%d/%m/%y\")"
      ]
    },
    {
      "cell_type": "code",
      "execution_count": null,
      "id": "3123aa5a-f1d1-4520-8651-59807c5eaf0d",
      "metadata": {
        "id": "3123aa5a-f1d1-4520-8651-59807c5eaf0d",
        "outputId": "8701ad1d-1fdd-4440-dfc6-a8e65639251c"
      },
      "outputs": [
        {
          "data": {
            "text/plain": [
              "continent                          object\n",
              "location                           object\n",
              "date                       datetime64[ns]\n",
              "total_cases                       float64\n",
              "total_deaths                      float64\n",
              "gdp_per_capita                    float64\n",
              "human_development_index           float64\n",
              "dtype: object"
            ]
          },
          "execution_count": 43,
          "metadata": {},
          "output_type": "execute_result"
        }
      ],
      "source": [
        "df1.dtypes"
      ]
    },
    {
      "cell_type": "markdown",
      "id": "6f02d2f1-d639-4dff-946f-26143455e46d",
      "metadata": {
        "id": "6f02d2f1-d639-4dff-946f-26143455e46d"
      },
      "source": [
        "### b. Create new column month after extracting month data from date column:"
      ]
    },
    {
      "cell_type": "code",
      "execution_count": null,
      "id": "88773b0a-abda-40d8-be2c-0400ed56a417",
      "metadata": {
        "id": "88773b0a-abda-40d8-be2c-0400ed56a417"
      },
      "outputs": [],
      "source": [
        "df1['month'] = df1['date'].dt.month"
      ]
    },
    {
      "cell_type": "code",
      "execution_count": null,
      "id": "c7159b11-4587-4c59-aa10-f0f61cb3cd0c",
      "metadata": {
        "id": "c7159b11-4587-4c59-aa10-f0f61cb3cd0c",
        "outputId": "6ab35108-5384-4815-9746-7c017f5817ce"
      },
      "outputs": [
        {
          "data": {
            "text/html": [
              "<div>\n",
              "<style scoped>\n",
              "    .dataframe tbody tr th:only-of-type {\n",
              "        vertical-align: middle;\n",
              "    }\n",
              "\n",
              "    .dataframe tbody tr th {\n",
              "        vertical-align: top;\n",
              "    }\n",
              "\n",
              "    .dataframe thead th {\n",
              "        text-align: right;\n",
              "    }\n",
              "</style>\n",
              "<table border=\"1\" class=\"dataframe\">\n",
              "  <thead>\n",
              "    <tr style=\"text-align: right;\">\n",
              "      <th></th>\n",
              "      <th>continent</th>\n",
              "      <th>location</th>\n",
              "      <th>date</th>\n",
              "      <th>total_cases</th>\n",
              "      <th>total_deaths</th>\n",
              "      <th>gdp_per_capita</th>\n",
              "      <th>human_development_index</th>\n",
              "      <th>month</th>\n",
              "    </tr>\n",
              "  </thead>\n",
              "  <tbody>\n",
              "    <tr>\n",
              "      <th>0</th>\n",
              "      <td>Asia</td>\n",
              "      <td>Afghanistan</td>\n",
              "      <td>2019-12-31</td>\n",
              "      <td>0.0</td>\n",
              "      <td>0.0</td>\n",
              "      <td>1803.987</td>\n",
              "      <td>0.498</td>\n",
              "      <td>12</td>\n",
              "    </tr>\n",
              "    <tr>\n",
              "      <th>1</th>\n",
              "      <td>Asia</td>\n",
              "      <td>Afghanistan</td>\n",
              "      <td>2020-01-01</td>\n",
              "      <td>0.0</td>\n",
              "      <td>0.0</td>\n",
              "      <td>1803.987</td>\n",
              "      <td>0.498</td>\n",
              "      <td>1</td>\n",
              "    </tr>\n",
              "    <tr>\n",
              "      <th>2</th>\n",
              "      <td>Asia</td>\n",
              "      <td>Afghanistan</td>\n",
              "      <td>2020-01-02</td>\n",
              "      <td>0.0</td>\n",
              "      <td>0.0</td>\n",
              "      <td>1803.987</td>\n",
              "      <td>0.498</td>\n",
              "      <td>1</td>\n",
              "    </tr>\n",
              "    <tr>\n",
              "      <th>3</th>\n",
              "      <td>Asia</td>\n",
              "      <td>Afghanistan</td>\n",
              "      <td>2020-01-03</td>\n",
              "      <td>0.0</td>\n",
              "      <td>0.0</td>\n",
              "      <td>1803.987</td>\n",
              "      <td>0.498</td>\n",
              "      <td>1</td>\n",
              "    </tr>\n",
              "    <tr>\n",
              "      <th>4</th>\n",
              "      <td>Asia</td>\n",
              "      <td>Afghanistan</td>\n",
              "      <td>2020-01-04</td>\n",
              "      <td>0.0</td>\n",
              "      <td>0.0</td>\n",
              "      <td>1803.987</td>\n",
              "      <td>0.498</td>\n",
              "      <td>1</td>\n",
              "    </tr>\n",
              "    <tr>\n",
              "      <th>...</th>\n",
              "      <td>...</td>\n",
              "      <td>...</td>\n",
              "      <td>...</td>\n",
              "      <td>...</td>\n",
              "      <td>...</td>\n",
              "      <td>...</td>\n",
              "      <td>...</td>\n",
              "      <td>...</td>\n",
              "    </tr>\n",
              "    <tr>\n",
              "      <th>56743</th>\n",
              "      <td>Africa</td>\n",
              "      <td>Zimbabwe</td>\n",
              "      <td>2020-11-13</td>\n",
              "      <td>8696.0</td>\n",
              "      <td>255.0</td>\n",
              "      <td>1899.775</td>\n",
              "      <td>0.535</td>\n",
              "      <td>11</td>\n",
              "    </tr>\n",
              "    <tr>\n",
              "      <th>56744</th>\n",
              "      <td>Africa</td>\n",
              "      <td>Zimbabwe</td>\n",
              "      <td>2020-11-14</td>\n",
              "      <td>8765.0</td>\n",
              "      <td>257.0</td>\n",
              "      <td>1899.775</td>\n",
              "      <td>0.535</td>\n",
              "      <td>11</td>\n",
              "    </tr>\n",
              "    <tr>\n",
              "      <th>56745</th>\n",
              "      <td>Africa</td>\n",
              "      <td>Zimbabwe</td>\n",
              "      <td>2020-11-15</td>\n",
              "      <td>8786.0</td>\n",
              "      <td>257.0</td>\n",
              "      <td>1899.775</td>\n",
              "      <td>0.535</td>\n",
              "      <td>11</td>\n",
              "    </tr>\n",
              "    <tr>\n",
              "      <th>56746</th>\n",
              "      <td>Africa</td>\n",
              "      <td>Zimbabwe</td>\n",
              "      <td>2020-11-16</td>\n",
              "      <td>8786.0</td>\n",
              "      <td>257.0</td>\n",
              "      <td>1899.775</td>\n",
              "      <td>0.535</td>\n",
              "      <td>11</td>\n",
              "    </tr>\n",
              "    <tr>\n",
              "      <th>56747</th>\n",
              "      <td>Africa</td>\n",
              "      <td>Zimbabwe</td>\n",
              "      <td>2020-11-17</td>\n",
              "      <td>8897.0</td>\n",
              "      <td>257.0</td>\n",
              "      <td>1899.775</td>\n",
              "      <td>0.535</td>\n",
              "      <td>11</td>\n",
              "    </tr>\n",
              "  </tbody>\n",
              "</table>\n",
              "<p>56748 rows × 8 columns</p>\n",
              "</div>"
            ],
            "text/plain": [
              "      continent     location       date  total_cases  total_deaths  \\\n",
              "0          Asia  Afghanistan 2019-12-31          0.0           0.0   \n",
              "1          Asia  Afghanistan 2020-01-01          0.0           0.0   \n",
              "2          Asia  Afghanistan 2020-01-02          0.0           0.0   \n",
              "3          Asia  Afghanistan 2020-01-03          0.0           0.0   \n",
              "4          Asia  Afghanistan 2020-01-04          0.0           0.0   \n",
              "...         ...          ...        ...          ...           ...   \n",
              "56743    Africa     Zimbabwe 2020-11-13       8696.0         255.0   \n",
              "56744    Africa     Zimbabwe 2020-11-14       8765.0         257.0   \n",
              "56745    Africa     Zimbabwe 2020-11-15       8786.0         257.0   \n",
              "56746    Africa     Zimbabwe 2020-11-16       8786.0         257.0   \n",
              "56747    Africa     Zimbabwe 2020-11-17       8897.0         257.0   \n",
              "\n",
              "       gdp_per_capita  human_development_index  month  \n",
              "0            1803.987                    0.498     12  \n",
              "1            1803.987                    0.498      1  \n",
              "2            1803.987                    0.498      1  \n",
              "3            1803.987                    0.498      1  \n",
              "4            1803.987                    0.498      1  \n",
              "...               ...                      ...    ...  \n",
              "56743        1899.775                    0.535     11  \n",
              "56744        1899.775                    0.535     11  \n",
              "56745        1899.775                    0.535     11  \n",
              "56746        1899.775                    0.535     11  \n",
              "56747        1899.775                    0.535     11  \n",
              "\n",
              "[56748 rows x 8 columns]"
            ]
          },
          "execution_count": 45,
          "metadata": {},
          "output_type": "execute_result"
        }
      ],
      "source": [
        "df1"
      ]
    },
    {
      "cell_type": "markdown",
      "id": "fffc051a-131e-4469-81cc-d4408d3a4a26",
      "metadata": {
        "id": "fffc051a-131e-4469-81cc-d4408d3a4a26"
      },
      "source": [
        "## 7. Data Aggregation:"
      ]
    },
    {
      "cell_type": "markdown",
      "id": "ee4616c5-7a0a-4dd2-81a4-a290c13a71e7",
      "metadata": {
        "id": "ee4616c5-7a0a-4dd2-81a4-a290c13a71e7"
      },
      "source": [
        "### a. Find maximum value in all columns using groupby function on 'continent' column:"
      ]
    },
    {
      "cell_type": "code",
      "execution_count": null,
      "id": "f895fffd-ed79-4da8-b7de-aa914e78bf36",
      "metadata": {
        "id": "f895fffd-ed79-4da8-b7de-aa914e78bf36"
      },
      "outputs": [],
      "source": [
        "df1_max = df1.groupby(\"continent\").max().reset_index()"
      ]
    },
    {
      "cell_type": "code",
      "execution_count": null,
      "id": "71aca821-e82b-4cd7-a342-1c428fa2ab60",
      "metadata": {
        "id": "71aca821-e82b-4cd7-a342-1c428fa2ab60",
        "outputId": "9463ddf8-ef23-4d00-871a-622ce2a3d5b4"
      },
      "outputs": [
        {
          "data": {
            "text/html": [
              "<div>\n",
              "<style scoped>\n",
              "    .dataframe tbody tr th:only-of-type {\n",
              "        vertical-align: middle;\n",
              "    }\n",
              "\n",
              "    .dataframe tbody tr th {\n",
              "        vertical-align: top;\n",
              "    }\n",
              "\n",
              "    .dataframe thead th {\n",
              "        text-align: right;\n",
              "    }\n",
              "</style>\n",
              "<table border=\"1\" class=\"dataframe\">\n",
              "  <thead>\n",
              "    <tr style=\"text-align: right;\">\n",
              "      <th></th>\n",
              "      <th>continent</th>\n",
              "      <th>location</th>\n",
              "      <th>date</th>\n",
              "      <th>total_cases</th>\n",
              "      <th>total_deaths</th>\n",
              "      <th>gdp_per_capita</th>\n",
              "      <th>human_development_index</th>\n",
              "      <th>month</th>\n",
              "    </tr>\n",
              "  </thead>\n",
              "  <tbody>\n",
              "    <tr>\n",
              "      <th>0</th>\n",
              "      <td>Africa</td>\n",
              "      <td>Zimbabwe</td>\n",
              "      <td>2020-11-17</td>\n",
              "      <td>752269.0</td>\n",
              "      <td>20314.0</td>\n",
              "      <td>26382.287</td>\n",
              "      <td>0.797</td>\n",
              "      <td>12</td>\n",
              "    </tr>\n",
              "    <tr>\n",
              "      <th>1</th>\n",
              "      <td>Asia</td>\n",
              "      <td>Yemen</td>\n",
              "      <td>2020-11-17</td>\n",
              "      <td>8874290.0</td>\n",
              "      <td>130519.0</td>\n",
              "      <td>116935.600</td>\n",
              "      <td>0.933</td>\n",
              "      <td>12</td>\n",
              "    </tr>\n",
              "    <tr>\n",
              "      <th>2</th>\n",
              "      <td>Europe</td>\n",
              "      <td>Vatican</td>\n",
              "      <td>2020-11-17</td>\n",
              "      <td>1991233.0</td>\n",
              "      <td>52147.0</td>\n",
              "      <td>94277.965</td>\n",
              "      <td>0.953</td>\n",
              "      <td>12</td>\n",
              "    </tr>\n",
              "    <tr>\n",
              "      <th>3</th>\n",
              "      <td>North America</td>\n",
              "      <td>United States Virgin Islands</td>\n",
              "      <td>2020-11-17</td>\n",
              "      <td>11205486.0</td>\n",
              "      <td>247220.0</td>\n",
              "      <td>54225.446</td>\n",
              "      <td>0.926</td>\n",
              "      <td>12</td>\n",
              "    </tr>\n",
              "    <tr>\n",
              "      <th>4</th>\n",
              "      <td>Oceania</td>\n",
              "      <td>Wallis and Futuna</td>\n",
              "      <td>2020-11-17</td>\n",
              "      <td>27750.0</td>\n",
              "      <td>907.0</td>\n",
              "      <td>44648.710</td>\n",
              "      <td>0.939</td>\n",
              "      <td>12</td>\n",
              "    </tr>\n",
              "    <tr>\n",
              "      <th>5</th>\n",
              "      <td>South America</td>\n",
              "      <td>Venezuela</td>\n",
              "      <td>2020-11-17</td>\n",
              "      <td>5876464.0</td>\n",
              "      <td>166014.0</td>\n",
              "      <td>22767.037</td>\n",
              "      <td>0.843</td>\n",
              "      <td>12</td>\n",
              "    </tr>\n",
              "  </tbody>\n",
              "</table>\n",
              "</div>"
            ],
            "text/plain": [
              "       continent                      location       date  total_cases  \\\n",
              "0         Africa                      Zimbabwe 2020-11-17     752269.0   \n",
              "1           Asia                         Yemen 2020-11-17    8874290.0   \n",
              "2         Europe                       Vatican 2020-11-17    1991233.0   \n",
              "3  North America  United States Virgin Islands 2020-11-17   11205486.0   \n",
              "4        Oceania             Wallis and Futuna 2020-11-17      27750.0   \n",
              "5  South America                     Venezuela 2020-11-17    5876464.0   \n",
              "\n",
              "   total_deaths  gdp_per_capita  human_development_index  month  \n",
              "0       20314.0       26382.287                    0.797     12  \n",
              "1      130519.0      116935.600                    0.933     12  \n",
              "2       52147.0       94277.965                    0.953     12  \n",
              "3      247220.0       54225.446                    0.926     12  \n",
              "4         907.0       44648.710                    0.939     12  \n",
              "5      166014.0       22767.037                    0.843     12  "
            ]
          },
          "execution_count": 47,
          "metadata": {},
          "output_type": "execute_result"
        }
      ],
      "source": [
        "df1_max"
      ]
    },
    {
      "cell_type": "markdown",
      "id": "ddb1653b-a203-432e-9434-3f905188b9b2",
      "metadata": {
        "id": "ddb1653b-a203-432e-9434-3f905188b9b2"
      },
      "source": [
        "### b. Store the result in new dataframe named 'df_groupby':"
      ]
    },
    {
      "cell_type": "code",
      "execution_count": null,
      "id": "10d12965-0e4b-4131-b0d8-ef997eafe1f2",
      "metadata": {
        "id": "10d12965-0e4b-4131-b0d8-ef997eafe1f2"
      },
      "outputs": [],
      "source": [
        "df_groupby=df1_max"
      ]
    },
    {
      "cell_type": "code",
      "execution_count": null,
      "id": "26cc2266-9844-4d81-908a-1bfd0f927826",
      "metadata": {
        "id": "26cc2266-9844-4d81-908a-1bfd0f927826",
        "outputId": "487d43a6-50d5-4699-ed63-c1cf39f56456"
      },
      "outputs": [
        {
          "data": {
            "text/html": [
              "<div>\n",
              "<style scoped>\n",
              "    .dataframe tbody tr th:only-of-type {\n",
              "        vertical-align: middle;\n",
              "    }\n",
              "\n",
              "    .dataframe tbody tr th {\n",
              "        vertical-align: top;\n",
              "    }\n",
              "\n",
              "    .dataframe thead th {\n",
              "        text-align: right;\n",
              "    }\n",
              "</style>\n",
              "<table border=\"1\" class=\"dataframe\">\n",
              "  <thead>\n",
              "    <tr style=\"text-align: right;\">\n",
              "      <th></th>\n",
              "      <th>continent</th>\n",
              "      <th>location</th>\n",
              "      <th>date</th>\n",
              "      <th>total_cases</th>\n",
              "      <th>total_deaths</th>\n",
              "      <th>gdp_per_capita</th>\n",
              "      <th>human_development_index</th>\n",
              "      <th>month</th>\n",
              "    </tr>\n",
              "  </thead>\n",
              "  <tbody>\n",
              "    <tr>\n",
              "      <th>0</th>\n",
              "      <td>Africa</td>\n",
              "      <td>Zimbabwe</td>\n",
              "      <td>2020-11-17</td>\n",
              "      <td>752269.0</td>\n",
              "      <td>20314.0</td>\n",
              "      <td>26382.287</td>\n",
              "      <td>0.797</td>\n",
              "      <td>12</td>\n",
              "    </tr>\n",
              "    <tr>\n",
              "      <th>1</th>\n",
              "      <td>Asia</td>\n",
              "      <td>Yemen</td>\n",
              "      <td>2020-11-17</td>\n",
              "      <td>8874290.0</td>\n",
              "      <td>130519.0</td>\n",
              "      <td>116935.600</td>\n",
              "      <td>0.933</td>\n",
              "      <td>12</td>\n",
              "    </tr>\n",
              "    <tr>\n",
              "      <th>2</th>\n",
              "      <td>Europe</td>\n",
              "      <td>Vatican</td>\n",
              "      <td>2020-11-17</td>\n",
              "      <td>1991233.0</td>\n",
              "      <td>52147.0</td>\n",
              "      <td>94277.965</td>\n",
              "      <td>0.953</td>\n",
              "      <td>12</td>\n",
              "    </tr>\n",
              "    <tr>\n",
              "      <th>3</th>\n",
              "      <td>North America</td>\n",
              "      <td>United States Virgin Islands</td>\n",
              "      <td>2020-11-17</td>\n",
              "      <td>11205486.0</td>\n",
              "      <td>247220.0</td>\n",
              "      <td>54225.446</td>\n",
              "      <td>0.926</td>\n",
              "      <td>12</td>\n",
              "    </tr>\n",
              "    <tr>\n",
              "      <th>4</th>\n",
              "      <td>Oceania</td>\n",
              "      <td>Wallis and Futuna</td>\n",
              "      <td>2020-11-17</td>\n",
              "      <td>27750.0</td>\n",
              "      <td>907.0</td>\n",
              "      <td>44648.710</td>\n",
              "      <td>0.939</td>\n",
              "      <td>12</td>\n",
              "    </tr>\n",
              "    <tr>\n",
              "      <th>5</th>\n",
              "      <td>South America</td>\n",
              "      <td>Venezuela</td>\n",
              "      <td>2020-11-17</td>\n",
              "      <td>5876464.0</td>\n",
              "      <td>166014.0</td>\n",
              "      <td>22767.037</td>\n",
              "      <td>0.843</td>\n",
              "      <td>12</td>\n",
              "    </tr>\n",
              "  </tbody>\n",
              "</table>\n",
              "</div>"
            ],
            "text/plain": [
              "       continent                      location       date  total_cases  \\\n",
              "0         Africa                      Zimbabwe 2020-11-17     752269.0   \n",
              "1           Asia                         Yemen 2020-11-17    8874290.0   \n",
              "2         Europe                       Vatican 2020-11-17    1991233.0   \n",
              "3  North America  United States Virgin Islands 2020-11-17   11205486.0   \n",
              "4        Oceania             Wallis and Futuna 2020-11-17      27750.0   \n",
              "5  South America                     Venezuela 2020-11-17    5876464.0   \n",
              "\n",
              "   total_deaths  gdp_per_capita  human_development_index  month  \n",
              "0       20314.0       26382.287                    0.797     12  \n",
              "1      130519.0      116935.600                    0.933     12  \n",
              "2       52147.0       94277.965                    0.953     12  \n",
              "3      247220.0       54225.446                    0.926     12  \n",
              "4         907.0       44648.710                    0.939     12  \n",
              "5      166014.0       22767.037                    0.843     12  "
            ]
          },
          "execution_count": 49,
          "metadata": {},
          "output_type": "execute_result"
        }
      ],
      "source": [
        "df_groupby"
      ]
    },
    {
      "cell_type": "markdown",
      "id": "9a17b34e-8d31-4530-9eb3-1293dee0f5d5",
      "metadata": {
        "id": "9a17b34e-8d31-4530-9eb3-1293dee0f5d5"
      },
      "source": [
        "## 8. Feature Engineering:"
      ]
    },
    {
      "cell_type": "markdown",
      "id": "10b24cac-0160-47cd-8240-a0c639ef2317",
      "metadata": {
        "id": "10b24cac-0160-47cd-8240-a0c639ef2317"
      },
      "source": [
        "### a. create a new feature 'total_deaths_to total_cases' by ratio of 'total_deaths' column to 'total_cases':"
      ]
    },
    {
      "cell_type": "code",
      "execution_count": null,
      "id": "38b76c54-a89a-48e7-8b1e-ab7fa3eec577",
      "metadata": {
        "id": "38b76c54-a89a-48e7-8b1e-ab7fa3eec577"
      },
      "outputs": [],
      "source": [
        "df_groupby[\"total_deaths_to total_cases\"]=df_groupby[\"total_deaths\"]/df_groupby[\"total_cases\"]"
      ]
    },
    {
      "cell_type": "code",
      "execution_count": null,
      "id": "1164cc22-c7af-436e-aec6-f575ac2a74c6",
      "metadata": {
        "id": "1164cc22-c7af-436e-aec6-f575ac2a74c6",
        "outputId": "46d26659-733d-42f0-b9a8-ce38d628c523"
      },
      "outputs": [
        {
          "data": {
            "text/plain": [
              "0    2.700364\n",
              "1    1.470754\n",
              "2    2.618830\n",
              "3    2.206241\n",
              "4    3.268468\n",
              "5    2.825066\n",
              "Name: total_deaths_to total_cases, dtype: float64"
            ]
          },
          "execution_count": 51,
          "metadata": {},
          "output_type": "execute_result"
        }
      ],
      "source": [
        "df_groupby[\"total_deaths_to total_cases\"]*100"
      ]
    },
    {
      "cell_type": "code",
      "execution_count": null,
      "id": "739db855-8aec-4c3c-903f-c168a86d89a5",
      "metadata": {
        "id": "739db855-8aec-4c3c-903f-c168a86d89a5",
        "outputId": "2c7bc5d9-f622-410f-b9c9-191fdc94a4e9"
      },
      "outputs": [
        {
          "data": {
            "text/html": [
              "<div>\n",
              "<style scoped>\n",
              "    .dataframe tbody tr th:only-of-type {\n",
              "        vertical-align: middle;\n",
              "    }\n",
              "\n",
              "    .dataframe tbody tr th {\n",
              "        vertical-align: top;\n",
              "    }\n",
              "\n",
              "    .dataframe thead th {\n",
              "        text-align: right;\n",
              "    }\n",
              "</style>\n",
              "<table border=\"1\" class=\"dataframe\">\n",
              "  <thead>\n",
              "    <tr style=\"text-align: right;\">\n",
              "      <th></th>\n",
              "      <th>continent</th>\n",
              "      <th>location</th>\n",
              "      <th>date</th>\n",
              "      <th>total_cases</th>\n",
              "      <th>total_deaths</th>\n",
              "      <th>gdp_per_capita</th>\n",
              "      <th>human_development_index</th>\n",
              "      <th>month</th>\n",
              "      <th>total_deaths_to total_cases</th>\n",
              "    </tr>\n",
              "  </thead>\n",
              "  <tbody>\n",
              "    <tr>\n",
              "      <th>0</th>\n",
              "      <td>Africa</td>\n",
              "      <td>Zimbabwe</td>\n",
              "      <td>2020-11-17</td>\n",
              "      <td>752269.0</td>\n",
              "      <td>20314.0</td>\n",
              "      <td>26382.287</td>\n",
              "      <td>0.797</td>\n",
              "      <td>12</td>\n",
              "      <td>0.027004</td>\n",
              "    </tr>\n",
              "    <tr>\n",
              "      <th>1</th>\n",
              "      <td>Asia</td>\n",
              "      <td>Yemen</td>\n",
              "      <td>2020-11-17</td>\n",
              "      <td>8874290.0</td>\n",
              "      <td>130519.0</td>\n",
              "      <td>116935.600</td>\n",
              "      <td>0.933</td>\n",
              "      <td>12</td>\n",
              "      <td>0.014708</td>\n",
              "    </tr>\n",
              "    <tr>\n",
              "      <th>2</th>\n",
              "      <td>Europe</td>\n",
              "      <td>Vatican</td>\n",
              "      <td>2020-11-17</td>\n",
              "      <td>1991233.0</td>\n",
              "      <td>52147.0</td>\n",
              "      <td>94277.965</td>\n",
              "      <td>0.953</td>\n",
              "      <td>12</td>\n",
              "      <td>0.026188</td>\n",
              "    </tr>\n",
              "    <tr>\n",
              "      <th>3</th>\n",
              "      <td>North America</td>\n",
              "      <td>United States Virgin Islands</td>\n",
              "      <td>2020-11-17</td>\n",
              "      <td>11205486.0</td>\n",
              "      <td>247220.0</td>\n",
              "      <td>54225.446</td>\n",
              "      <td>0.926</td>\n",
              "      <td>12</td>\n",
              "      <td>0.022062</td>\n",
              "    </tr>\n",
              "    <tr>\n",
              "      <th>4</th>\n",
              "      <td>Oceania</td>\n",
              "      <td>Wallis and Futuna</td>\n",
              "      <td>2020-11-17</td>\n",
              "      <td>27750.0</td>\n",
              "      <td>907.0</td>\n",
              "      <td>44648.710</td>\n",
              "      <td>0.939</td>\n",
              "      <td>12</td>\n",
              "      <td>0.032685</td>\n",
              "    </tr>\n",
              "    <tr>\n",
              "      <th>5</th>\n",
              "      <td>South America</td>\n",
              "      <td>Venezuela</td>\n",
              "      <td>2020-11-17</td>\n",
              "      <td>5876464.0</td>\n",
              "      <td>166014.0</td>\n",
              "      <td>22767.037</td>\n",
              "      <td>0.843</td>\n",
              "      <td>12</td>\n",
              "      <td>0.028251</td>\n",
              "    </tr>\n",
              "  </tbody>\n",
              "</table>\n",
              "</div>"
            ],
            "text/plain": [
              "       continent                      location       date  total_cases  \\\n",
              "0         Africa                      Zimbabwe 2020-11-17     752269.0   \n",
              "1           Asia                         Yemen 2020-11-17    8874290.0   \n",
              "2         Europe                       Vatican 2020-11-17    1991233.0   \n",
              "3  North America  United States Virgin Islands 2020-11-17   11205486.0   \n",
              "4        Oceania             Wallis and Futuna 2020-11-17      27750.0   \n",
              "5  South America                     Venezuela 2020-11-17    5876464.0   \n",
              "\n",
              "   total_deaths  gdp_per_capita  human_development_index  month  \\\n",
              "0       20314.0       26382.287                    0.797     12   \n",
              "1      130519.0      116935.600                    0.933     12   \n",
              "2       52147.0       94277.965                    0.953     12   \n",
              "3      247220.0       54225.446                    0.926     12   \n",
              "4         907.0       44648.710                    0.939     12   \n",
              "5      166014.0       22767.037                    0.843     12   \n",
              "\n",
              "   total_deaths_to total_cases  \n",
              "0                     0.027004  \n",
              "1                     0.014708  \n",
              "2                     0.026188  \n",
              "3                     0.022062  \n",
              "4                     0.032685  \n",
              "5                     0.028251  "
            ]
          },
          "execution_count": 52,
          "metadata": {},
          "output_type": "execute_result"
        }
      ],
      "source": [
        "df_groupby"
      ]
    },
    {
      "cell_type": "markdown",
      "id": "b78edb9d-a959-4610-b0cf-adf823286da3",
      "metadata": {
        "id": "b78edb9d-a959-4610-b0cf-adf823286da3"
      },
      "source": [
        "## 9. Data visualization:"
      ]
    },
    {
      "cell_type": "markdown",
      "id": "9a920497-eac4-42b6-a0e4-81d7b8ab3550",
      "metadata": {
        "id": "9a920497-eac4-42b6-a0e4-81d7b8ab3550"
      },
      "source": [
        "### a. Perform Univariate analysis on 'gdp_per_capita' column by plotting histogram using seaborn dist plot:"
      ]
    },
    {
      "cell_type": "code",
      "execution_count": null,
      "id": "125ac580-a7b6-48fc-b011-5786a2adf095",
      "metadata": {
        "id": "125ac580-a7b6-48fc-b011-5786a2adf095",
        "outputId": "813e9675-4a89-4054-ed51-c14489ef83ca"
      },
      "outputs": [
        {
          "data": {
            "text/plain": [
              "Text(0, 0.5, 'Frequency')"
            ]
          },
          "execution_count": 53,
          "metadata": {},
          "output_type": "execute_result"
        },
        {
          "data": {
            "image/png": "[encoded data removed]",
            "text/plain": [
              "<Figure size 700x500 with 1 Axes>"
            ]
          },
          "metadata": {},
          "output_type": "display_data"
        }
      ],
      "source": [
        "plt.figure(figsize=(7, 5))\n",
        "sns.histplot(df1[\"gdp_per_capita\"], bins=30, kde=True, color='skyblue')\n",
        "plt.title(\"Distribution of GDP per Capita\")\n",
        "plt.xlabel(\"GDP per Capita\")\n",
        "plt.ylabel(\"Frequency\")"
      ]
    },
    {
      "cell_type": "markdown",
      "id": "f17e6109-925e-4683-b7f1-6424669a15df",
      "metadata": {
        "id": "f17e6109-925e-4683-b7f1-6424669a15df"
      },
      "source": [
        "### b. Plot scatter plot 'total_cases' and 'gdp_per_capita':"
      ]
    },
    {
      "cell_type": "code",
      "execution_count": null,
      "id": "f4b00a5f-0a46-4723-ad1d-8f804603a6e2",
      "metadata": {
        "id": "f4b00a5f-0a46-4723-ad1d-8f804603a6e2",
        "outputId": "0c0c25d8-85af-48b0-c689-686e50e3c83d"
      },
      "outputs": [
        {
          "data": {
            "text/plain": [
              "Text(37.597222222222214, 0.5, 'Total Cases')"
            ]
          },
          "execution_count": 54,
          "metadata": {},
          "output_type": "execute_result"
        },
        {
          "data": {
            "text/plain": [
              "<Figure size 700x500 with 0 Axes>"
            ]
          },
          "metadata": {},
          "output_type": "display_data"
        },
        {
          "data": {
            "image/png": "[encoded data removed]",
            "text/plain": [
              "<Figure size 600x600 with 3 Axes>"
            ]
          },
          "metadata": {},
          "output_type": "display_data"
        }
      ],
      "source": [
        "plt.figure(figsize=(7, 5))\n",
        "sns.jointplot(data=df_groupby, x=\"gdp_per_capita\", y=\"total_cases\",kind=\"scatter\" ,color=\"dodgerblue\")\n",
        "plt.xlabel(\"GDP per Capita\")\n",
        "plt.ylabel(\"Total Cases\")"
      ]
    },
    {
      "cell_type": "markdown",
      "id": "b43a77e8-367e-4922-9b34-86db3a314856",
      "metadata": {
        "id": "b43a77e8-367e-4922-9b34-86db3a314856"
      },
      "source": [
        "### c. Plot pairplot on df_groupby dataset:"
      ]
    },
    {
      "cell_type": "code",
      "execution_count": null,
      "id": "bfe61a56-c886-4b85-8bde-aff011267d0a",
      "metadata": {
        "id": "bfe61a56-c886-4b85-8bde-aff011267d0a",
        "outputId": "5fbc4db2-ad7b-4b39-f89c-8af4446d55b9"
      },
      "outputs": [
        {
          "data": {
            "text/plain": [
              "<seaborn.axisgrid.PairGrid at 0x204080d2540>"
            ]
          },
          "execution_count": 55,
          "metadata": {},
          "output_type": "execute_result"
        },
        {
          "data": {
            "image/png": "[encoded data removed]",
            "text/plain": [
              "<Figure size 1500x1500 with 42 Axes>"
            ]
          },
          "metadata": {},
          "output_type": "display_data"
        }
      ],
      "source": [
        "sns.pairplot(df_groupby)"
      ]
    },
    {
      "cell_type": "markdown",
      "id": "32301bfc-0f51-43fd-8293-a47e52f49a58",
      "metadata": {
        "id": "32301bfc-0f51-43fd-8293-a47e52f49a58"
      },
      "source": [
        "### d. Plot a bar plot of 'continent' column with 'total_cases':"
      ]
    },
    {
      "cell_type": "code",
      "execution_count": null,
      "id": "3c38a058-a54c-4361-93dc-6f24b680b1dc",
      "metadata": {
        "id": "3c38a058-a54c-4361-93dc-6f24b680b1dc",
        "outputId": "672d2b1e-161c-4011-a8c1-4cf986090fd1"
      },
      "outputs": [
        {
          "data": {
            "text/plain": [
              "<seaborn.axisgrid.FacetGrid at 0x20411a16300>"
            ]
          },
          "execution_count": 56,
          "metadata": {},
          "output_type": "execute_result"
        },
        {
          "data": {
            "image/png": "[encoded data removed]",
            "text/plain": [
              "<Figure size 500x500 with 1 Axes>"
            ]
          },
          "metadata": {},
          "output_type": "display_data"
        }
      ],
      "source": [
        "sns.catplot(data=df_groupby, x=\"continent\", y=\"total_cases\", kind=\"bar\",hue=\"continent\",palette=\"Blues\",legend=False)"
      ]
    },
    {
      "cell_type": "markdown",
      "id": "dc14763d-c234-4071-8ebd-0996991bbf39",
      "metadata": {
        "id": "dc14763d-c234-4071-8ebd-0996991bbf39"
      },
      "source": [
        "## 10. Save the df_groupby dataframe in your local drive using pandas.to_csv():"
      ]
    },
    {
      "cell_type": "code",
      "execution_count": null,
      "id": "8469d4e0-1ef8-490c-ad1f-7f6f06fddb70",
      "metadata": {
        "id": "8469d4e0-1ef8-490c-ad1f-7f6f06fddb70"
      },
      "outputs": [],
      "source": [
        "df1.to_csv('Covid.csv', index=False)"
      ]
    },
    {
      "cell_type": "code",
      "execution_count": null,
      "id": "a52d45ba-7415-4cda-aafc-ca7e7acde9f3",
      "metadata": {
        "id": "a52d45ba-7415-4cda-aafc-ca7e7acde9f3"
      },
      "outputs": [],
      "source": []
    }
  ],
  "metadata": {
    "kernelspec": {
      "display_name": "Python [conda env:base] *",
      "language": "python",
      "name": "conda-base-py"
    },
    "language_info": {
      "codemirror_mode": {
        "name": "ipython",
        "version": 3
      },
      "file_extension": ".py",
      "mimetype": "text/x-python",
      "name": "python",
      "nbconvert_exporter": "python",
      "pygments_lexer": "ipython3",
      "version": "3.12.7"
    },
    "colab": {
      "provenance": [],
      "include_colab_link": true
    }
  },
  "nbformat": 4,
  "nbformat_minor": 5
}